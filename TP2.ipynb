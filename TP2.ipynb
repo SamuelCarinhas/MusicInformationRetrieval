{
 "cells": [
  {
   "cell_type": "markdown",
   "metadata": {},
   "source": [
    "# Trabalho Prático 2 \n",
    "## Music Retrieval Information "
   ]
  },
  {
   "cell_type": "markdown",
   "metadata": {},
   "source": [
    "- Joana Simões, Nº 2019217013\n",
    "- Samuel Carinhas, Nº2019217199\n",
    "- Sofia Alves, Nº 2019227240"
   ]
  },
  {
   "cell_type": "markdown",
   "metadata": {},
   "source": [
    "Este trabalho teve como objetivo desenvolver um sistema de recomendações de músicas com base no conteúdo. Para tal, foram seguidos vários passos essenciais que foram desde a extração de features das músicas presentes no *dataset*, passando posteriormente à seleção das melhores recomendações consoante diferentes métricas para determinadas *queries* usadas como *input*. Por último, houve uma etapa de avaliação subjetiva individual feita por cada membro para calcular a precisão do sistema de recomendação. "
   ]
  },
  {
   "cell_type": "code",
   "execution_count": 1,
   "metadata": {},
   "outputs": [],
   "source": [
    "# imports\n",
    "import librosa\n",
    "import librosa.display\n",
    "import sounddevice as sd\n",
    "import warnings\n",
    "import numpy as np\n",
    "import matplotlib.pyplot as plt\n",
    "import os\n",
    "import scipy.stats as st\n",
    "from sklearn import preprocessing\n",
    "import pandas as pd"
   ]
  },
  {
   "cell_type": "markdown",
   "metadata": {},
   "source": [
    "## Extração de features"
   ]
  },
  {
   "cell_type": "code",
   "execution_count": 45,
   "metadata": {},
   "outputs": [],
   "source": [
    "def read_features(fileName, delim=','):\n",
    "    return np.genfromtxt(fileName, delimiter=delim)"
   ]
  },
  {
   "cell_type": "code",
   "execution_count": 46,
   "metadata": {},
   "outputs": [],
   "source": [
    "def clean_data(data):\n",
    "    nl, nc = data.shape\n",
    "    return data[1:, 1:(nc-1)]"
   ]
  },
  {
   "cell_type": "code",
   "execution_count": 47,
   "metadata": {},
   "outputs": [],
   "source": [
    "def normalize(feature):\n",
    "    return preprocessing.minmax_scale(feature, feature_range=(0, 1))"
   ]
  },
  {
   "cell_type": "code",
   "execution_count": 48,
   "metadata": {},
   "outputs": [],
   "source": [
    "def normalize_features(features):\n",
    "    return np.apply_along_axis(normalize, 0, features) # 0 = columns"
   ]
  },
  {
   "cell_type": "code",
   "execution_count": 49,
   "metadata": {},
   "outputs": [],
   "source": [
    "top100 = read_features('./dataset/top100_features.csv')\n",
    "top100 = clean_data(top100)\n",
    "top100_normalized = normalize_features(top100)\n",
    "\n",
    "np.savetxt('./dataset/top100_features_normalized.csv', top100_normalized, delimiter=',')"
   ]
  },
  {
   "cell_type": "code",
   "execution_count": 18,
   "metadata": {},
   "outputs": [],
   "source": [
    "def get_musics(dir='./dataset/musics/'):\n",
    "    files = os.listdir(dir)\n",
    "    #print(f'{len(files)} musics found')\n",
    "    return sorted(files)"
   ]
  },
  {
   "cell_type": "code",
   "execution_count": 51,
   "metadata": {},
   "outputs": [],
   "source": [
    "def get_statistics(feature):\n",
    "    if len(feature.shape) == 1:\n",
    "        feature = feature.reshape(1, feature.shape[0])\n",
    "\n",
    "    nl = feature.shape[0]\n",
    "    feature_statistics = np.zeros((nl, 7))\n",
    "\n",
    "    for i in range(nl):\n",
    "        mean = feature[i, :].mean()\n",
    "        std = feature[i, :].std()\n",
    "        skew = st.skew(feature[i, :])\n",
    "        kurtosis = st.kurtosis(feature[i, :])\n",
    "        median = np.median(feature[i, :])\n",
    "        mx = feature[i, :].max()\n",
    "        mn = feature[i, :].min()\n",
    "        feature_statistics[i, :] = np.array([mean, std, skew, kurtosis, median, mx, mn]) \n",
    "    \n",
    "\n",
    "    return feature_statistics.flatten()"
   ]
  },
  {
   "cell_type": "code",
   "execution_count": 52,
   "metadata": {},
   "outputs": [],
   "source": [
    "def extract_features(audioName):\n",
    "    sample_rate = 22050\n",
    "    use_mono = True\n",
    "    warnings.filterwarnings('ignore')\n",
    "    f0_min_freq = 20\n",
    "    f0_max_freq = sample_rate//2\n",
    "    mfcc_dim = 13\n",
    "\n",
    "    music, _ = librosa.load(audioName, sr=sample_rate, mono=use_mono)\n",
    "\n",
    "    mfcc = librosa.feature.mfcc(music, n_mfcc=mfcc_dim)\n",
    "    sp_centroid = librosa.feature.spectral_centroid(music)\n",
    "    sp_bandwidth = librosa.feature.spectral_bandwidth(music)\n",
    "    sp_contrast = librosa.feature.spectral_contrast(music, n_bands=6)\n",
    "    sp_flatness = librosa.feature.spectral_flatness(music)\n",
    "    sp_rolloff = librosa.feature.spectral_rolloff(music)    \n",
    "    f0 = librosa.yin(music, fmin=f0_min_freq, fmax=f0_max_freq)\n",
    "    f0[f0 == f0_max_freq] = 0\n",
    "    rms = librosa.feature.rms(music)\n",
    "    zcr = librosa.feature.zero_crossing_rate(music)\n",
    "    tempo = librosa.beat.tempo(music)\n",
    "    \n",
    "    features = [mfcc, sp_centroid, sp_bandwidth, sp_contrast, sp_flatness, sp_rolloff, f0, rms, zcr]\n",
    "\n",
    "    statistics = np.zeros(190)\n",
    "    prev = 0\n",
    "    for f in features:\n",
    "        stats = get_statistics(f)\n",
    "        #print(stats, len(stats))\n",
    "        statistics[prev:prev+len(stats)] = stats\n",
    "        prev += len(stats)\n",
    "\n",
    "    statistics[-1] = tempo\n",
    "    return statistics.reshape(1, 190)\n",
    "\n",
    "    "
   ]
  },
  {
   "cell_type": "code",
   "execution_count": 53,
   "metadata": {},
   "outputs": [],
   "source": [
    "musics = get_musics()"
   ]
  },
  {
   "cell_type": "code",
   "execution_count": 54,
   "metadata": {},
   "outputs": [
    {
     "data": {
      "text/plain": [
       "\"extract_features('./dataset/musics/MT0000004637.mp3')\\nmusics = get_musics()\\nfeatures = np.zeros((900, 190))\\nfor i, music in enumerate (musics):\\n    features[i, :] = extract_features(f'./dataset/musics/{music}')\\n\""
      ]
     },
     "execution_count": 54,
     "metadata": {},
     "output_type": "execute_result"
    }
   ],
   "source": [
    "\"\"\"extract_features('./dataset/musics/MT0000004637.mp3')\n",
    "musics = get_musics()\n",
    "features = np.zeros((900, 190))\n",
    "for i, music in enumerate (musics):\n",
    "    features[i, :] = extract_features(f'./dataset/musics/{music}')\n",
    "\"\"\" "
   ]
  },
  {
   "cell_type": "code",
   "execution_count": 55,
   "metadata": {},
   "outputs": [],
   "source": [
    "# normalized_features = normalize_features(features)"
   ]
  },
  {
   "cell_type": "code",
   "execution_count": 56,
   "metadata": {},
   "outputs": [
    {
     "data": {
      "text/plain": [
       "\"np.savetxt('./features/normalized_features.csv', normalized_features, delimiter=',', fmt='%.6f')\\nnp.savetxt('./features/features.csv', features, delimiter=',', fmt='%.6f')\""
      ]
     },
     "execution_count": 56,
     "metadata": {},
     "output_type": "execute_result"
    }
   ],
   "source": [
    "\"\"\"np.savetxt('./features/normalized_features.csv', normalized_features, delimiter=',', fmt='%.6f')\n",
    "np.savetxt('./features/features.csv', features, delimiter=',', fmt='%.6f')\"\"\""
   ]
  },
  {
   "cell_type": "code",
   "execution_count": 57,
   "metadata": {},
   "outputs": [],
   "source": [
    "normalized_features = read_features('./features/normalized_features.csv')"
   ]
  },
  {
   "cell_type": "markdown",
   "metadata": {},
   "source": [
    "## Métricas de similaridade"
   ]
  },
  {
   "cell_type": "code",
   "execution_count": 58,
   "metadata": {},
   "outputs": [],
   "source": [
    "def euclidean_distance(featuresA, featuresB):\n",
    "    return np.sqrt(np.sum(np.square(featuresA-featuresB)))"
   ]
  },
  {
   "cell_type": "code",
   "execution_count": 59,
   "metadata": {},
   "outputs": [],
   "source": [
    "def manhattan_distance(featuresA, featuresB):\n",
    "    return np.sum(np.abs(featuresA-featuresB))"
   ]
  },
  {
   "cell_type": "code",
   "execution_count": 60,
   "metadata": {},
   "outputs": [],
   "source": [
    "def cos_distance(featuresA, featuresB):\n",
    "    return 1 - (featuresA @ featuresB) / (np.linalg.norm(featuresA) * np.linalg.norm(featuresB))"
   ]
  },
  {
   "cell_type": "code",
   "execution_count": 61,
   "metadata": {},
   "outputs": [],
   "source": [
    "def calculate_distances(features):\n",
    "    distance_euclidean = np.zeros((900, 900))\n",
    "    distance_cos = np.zeros((900, 900))\n",
    "    distance_manhattan = np.zeros((900, 900))\n",
    "    for i in range(900):\n",
    "        for j in range(i+1, 900):\n",
    "            distance_euclidean[i,j] = distance_euclidean[j,i] = euclidean_distance(features[i, :], features[j,:])\n",
    "            distance_cos[i,j] =  distance_cos[j,i] = cos_distance(features[i,:], features[j,:])\n",
    "            distance_manhattan[i,j] = distance_manhattan[j,i] = manhattan_distance(features[i, :], features[j,:])\n",
    "    return distance_euclidean, distance_cos, distance_manhattan"
   ]
  },
  {
   "cell_type": "code",
   "execution_count": 62,
   "metadata": {},
   "outputs": [],
   "source": [
    "distance_euclidean, distance_cos, distance_manhattan = calculate_distances(normalized_features)\n",
    "distance_euclidean100, distance_cos100, distance_manhattan100 = calculate_distances(top100_normalized)"
   ]
  },
  {
   "cell_type": "code",
   "execution_count": 63,
   "metadata": {},
   "outputs": [],
   "source": [
    "np.savetxt('./features/distances/distance_euclidean.csv', distance_euclidean, delimiter=',', fmt='%.6f')\n",
    "np.savetxt('./features/distances/distance_euclidean100.csv', distance_euclidean100, delimiter=',', fmt='%.6f')\n",
    "np.savetxt('./features/distances/distance_cos.csv', distance_cos, delimiter=',', fmt='%.6f')\n",
    "np.savetxt('./features/distances/distance_cos100.csv', distance_cos100, delimiter=',', fmt='%.6f')\n",
    "np.savetxt('./features/distances/distance_manhattan.csv', distance_manhattan, delimiter=',', fmt='%.6f')\n",
    "np.savetxt('./features/distances/distance_manhattan100.csv', distance_manhattan100, delimiter=',', fmt='%.6f')"
   ]
  },
  {
   "cell_type": "code",
   "execution_count": 64,
   "metadata": {},
   "outputs": [],
   "source": [
    "musics = get_musics()\n",
    "music_dict = dict((music, i) for i, music in enumerate(musics))"
   ]
  },
  {
   "cell_type": "code",
   "execution_count": 65,
   "metadata": {},
   "outputs": [],
   "source": [
    "data_q = pd.read_csv(\"./dataset/panda_dataset_taffc_metadata.csv\")"
   ]
  },
  {
   "cell_type": "code",
   "execution_count": 66,
   "metadata": {},
   "outputs": [],
   "source": [
    "def get_the_closest_musics(music, features_distances, number=20):\n",
    "    music_index = music_dict[music]\n",
    "    distances = features_distances[music_index, :]\n",
    "    sorted_distances = np.argsort(distances)\n",
    "    print(data_q.loc[music_index][\"Quadrant\"], end=' ')\n",
    "    return [(musics[i], data_q.loc[i][\"Quadrant\"]) for i in sorted_distances[1:number+1]]"
   ]
  },
  {
   "cell_type": "code",
   "execution_count": 67,
   "metadata": {},
   "outputs": [
    {
     "name": "stdout",
     "output_type": "stream",
     "text": [
      "[[0.40833396 0.55892695 0.08767653 ... 0.49339478 0.29677785 0.28512149]\n",
      " [0.17434797 0.81639588 0.09864405 ... 0.66779986 0.14344785 0.        ]\n",
      " [0.21986539 0.95836272 0.11175995 ... 0.73227772 0.19118833 0.        ]\n",
      " ...\n",
      " [0.22605274 0.8830899  0.22646862 ... 0.66775423 0.19149261 0.        ]\n",
      " [0.33731922 0.82533373 0.28343725 ... 0.6795957  0.26104038 0.53630904]\n",
      " [0.38793611 0.80516266 0.21350893 ... 0.54009902 0.13512837 0.26941305]]\n"
     ]
    }
   ],
   "source": [
    "print(top100_normalized)"
   ]
  },
  {
   "cell_type": "code",
   "execution_count": 92,
   "metadata": {},
   "outputs": [
    {
     "name": "stdout",
     "output_type": "stream",
     "text": [
      "Q4 Euclidean: MT0000202045.mp3 [('MT0005129157.mp3', 'Q4'), ('MT0011899302.mp3', 'Q3'), ('MT0012001409.mp3', 'Q2'), ('MT0002233402.mp3', 'Q3'), ('MT0007043504.mp3', 'Q2'), ('MT0007799677.mp3', 'Q2'), ('MT0004428604.mp3', 'Q1'), ('MT0002161109.mp3', 'Q1'), ('MT0011975274.mp3', 'Q2'), ('MT0010624346.mp3', 'Q2'), ('MT0009217411.mp3', 'Q2'), ('MT0000092267.mp3', 'Q4'), ('MT0007766156.mp3', 'Q4'), ('MT0001676671.mp3', 'Q4'), ('MT0005270263.mp3', 'Q3'), ('MT0003787478.mp3', 'Q2'), ('MT0011376343.mp3', 'Q4'), ('MT0005213723.mp3', 'Q2'), ('MT0000732821.mp3', 'Q2'), ('MT0002634024.mp3', 'Q3')]\n",
      "Q4 Cos: MT0000202045.mp3 [('MT0005129157.mp3', 'Q4'), ('MT0012001409.mp3', 'Q2'), ('MT0011899302.mp3', 'Q3'), ('MT0002233402.mp3', 'Q3'), ('MT0007043504.mp3', 'Q2'), ('MT0007799677.mp3', 'Q2'), ('MT0004428604.mp3', 'Q1'), ('MT0011975274.mp3', 'Q2'), ('MT0002161109.mp3', 'Q1'), ('MT0000092267.mp3', 'Q4'), ('MT0010624346.mp3', 'Q2'), ('MT0009217411.mp3', 'Q2'), ('MT0007766156.mp3', 'Q4'), ('MT0003787478.mp3', 'Q2'), ('MT0010085729.mp3', 'Q1'), ('MT0005270263.mp3', 'Q3'), ('MT0001676671.mp3', 'Q4'), ('MT0000732821.mp3', 'Q2'), ('MT0005213723.mp3', 'Q2'), ('MT0026158301.mp3', 'Q1')]\n",
      "Q4 Manhattan: MT0000202045.mp3 [('MT0005129157.mp3', 'Q4'), ('MT0011899302.mp3', 'Q3'), ('MT0012001409.mp3', 'Q2'), ('MT0007799677.mp3', 'Q2'), ('MT0002233402.mp3', 'Q3'), ('MT0007043504.mp3', 'Q2'), ('MT0010624346.mp3', 'Q2'), ('MT0000732821.mp3', 'Q2'), ('MT0011975274.mp3', 'Q2'), ('MT0004428604.mp3', 'Q1'), ('MT0000092267.mp3', 'Q4'), ('MT0003787478.mp3', 'Q2'), ('MT0002161109.mp3', 'Q1'), ('MT0009217411.mp3', 'Q2'), ('MT0002379222.mp3', 'Q3'), ('MT0002634024.mp3', 'Q3'), ('MT0005213723.mp3', 'Q2'), ('MT0011376343.mp3', 'Q4'), ('MT0036368550.mp3', 'Q1'), ('MT0000446304.mp3', 'Q3')]\n",
      "Q4 Euclidean100: MT0000202045.mp3 [('MT0033841575.mp3', 'Q1'), ('MT0027002641.mp3', 'Q1'), ('MT0030487841.mp3', 'Q1'), ('MT0008575372.mp3', 'Q1'), ('MT0014576739.mp3', 'Q1'), ('MT0030422114.mp3', 'Q3'), ('MT0003390733.mp3', 'Q1'), ('MT0027835071.mp3', 'Q4'), ('MT0009188643.mp3', 'Q1'), ('MT0010617945.mp3', 'Q1'), ('MT0011145388.mp3', 'Q2'), ('MT0009213083.mp3', 'Q1'), ('MT0005331755.mp3', 'Q1'), ('MT0002233402.mp3', 'Q3'), ('MT0026727455.mp3', 'Q1'), ('MT0005265641.mp3', 'Q1'), ('MT0010344415.mp3', 'Q1'), ('MT0000711493.mp3', 'Q4'), ('MT0004428604.mp3', 'Q1'), ('MT0018029465.mp3', 'Q1')]\n",
      "Q4 Cos100: MT0000202045.mp3 [('MT0033841575.mp3', 'Q1'), ('MT0027002641.mp3', 'Q1'), ('MT0030487841.mp3', 'Q1'), ('MT0008575372.mp3', 'Q1'), ('MT0014576739.mp3', 'Q1'), ('MT0030422114.mp3', 'Q3'), ('MT0003390733.mp3', 'Q1'), ('MT0027835071.mp3', 'Q4'), ('MT0011145388.mp3', 'Q2'), ('MT0009188643.mp3', 'Q1'), ('MT0010617945.mp3', 'Q1'), ('MT0009213083.mp3', 'Q1'), ('MT0005331755.mp3', 'Q1'), ('MT0002233402.mp3', 'Q3'), ('MT0026727455.mp3', 'Q1'), ('MT0005265641.mp3', 'Q1'), ('MT0010344415.mp3', 'Q1'), ('MT0000711493.mp3', 'Q4'), ('MT0018029465.mp3', 'Q1'), ('MT0005469880.mp3', 'Q1')]\n",
      "Q4 Manhattan100: MT0000202045.mp3 [('MT0030422114.mp3', 'Q3'), ('MT0033841575.mp3', 'Q1'), ('MT0027835071.mp3', 'Q4'), ('MT0008575372.mp3', 'Q1'), ('MT0002297016.mp3', 'Q1'), ('MT0027002641.mp3', 'Q1'), ('MT0030487841.mp3', 'Q1'), ('MT0040033011.mp3', 'Q3'), ('MT0005265641.mp3', 'Q1'), ('MT0010617945.mp3', 'Q1'), ('MT0009213083.mp3', 'Q1'), ('MT0006096934.mp3', 'Q1'), ('MT0005897799.mp3', 'Q2'), ('MT0004428604.mp3', 'Q1'), ('MT0026727455.mp3', 'Q1'), ('MT0004867185.mp3', 'Q2'), ('MT0003787478.mp3', 'Q2'), ('MT0001340713.mp3', 'Q1'), ('MT0009188643.mp3', 'Q1'), ('MT0011145388.mp3', 'Q2')]\n",
      "\n",
      "\n",
      "Q3 Euclidean: MT0000379144.mp3 [('MT0004141823.mp3', 'Q1'), ('MT0006540794.mp3', 'Q1'), ('MT0011957429.mp3', 'Q1'), ('MT0008222676.mp3', 'Q1'), ('MT0009845271.mp3', 'Q1'), ('MT0012041920.mp3', 'Q1'), ('MT0002222957.mp3', 'Q1'), ('MT0006510599.mp3', 'Q2'), ('MT0003778826.mp3', 'Q4'), ('MT0011821215.mp3', 'Q1'), ('MT0005202791.mp3', 'Q2'), ('MT0000044741.mp3', 'Q3'), ('MT0012124855.mp3', 'Q2'), ('MT0005523766.mp3', 'Q1'), ('MT0003262589.mp3', 'Q2'), ('MT0006164654.mp3', 'Q4'), ('MT0010617945.mp3', 'Q1'), ('MT0007379559.mp3', 'Q2'), ('MT0000082187.mp3', 'Q1'), ('MT0002479795.mp3', 'Q2')]\n",
      "Q3 Cos: MT0000379144.mp3 [('MT0004141823.mp3', 'Q1'), ('MT0006540794.mp3', 'Q1'), ('MT0008222676.mp3', 'Q1'), ('MT0011957429.mp3', 'Q1'), ('MT0002222957.mp3', 'Q1'), ('MT0009845271.mp3', 'Q1'), ('MT0012041920.mp3', 'Q1'), ('MT0003794106.mp3', 'Q1'), ('MT0005202791.mp3', 'Q2'), ('MT0012124855.mp3', 'Q2'), ('MT0006510599.mp3', 'Q2'), ('MT0005515169.mp3', 'Q2'), ('MT0003778826.mp3', 'Q4'), ('MT0003262589.mp3', 'Q2'), ('MT0007379559.mp3', 'Q2'), ('MT0002479795.mp3', 'Q2'), ('MT0006367176.mp3', 'Q1'), ('MT0005523766.mp3', 'Q1'), ('MT0011821215.mp3', 'Q1'), ('MT0005029328.mp3', 'Q2')]\n",
      "Q3 Manhattan: MT0000379144.mp3 [('MT0004141823.mp3', 'Q1'), ('MT0008222676.mp3', 'Q1'), ('MT0011957429.mp3', 'Q1'), ('MT0006540794.mp3', 'Q1'), ('MT0009845271.mp3', 'Q1'), ('MT0002222957.mp3', 'Q1'), ('MT0011821215.mp3', 'Q1'), ('MT0002119439.mp3', 'Q1'), ('MT0012124855.mp3', 'Q2'), ('MT0000044741.mp3', 'Q3'), ('MT0012041920.mp3', 'Q1'), ('MT0010617945.mp3', 'Q1'), ('MT0003778826.mp3', 'Q4'), ('MT0005523766.mp3', 'Q1'), ('MT0006164654.mp3', 'Q4'), ('MT0003262589.mp3', 'Q2'), ('MT0005202791.mp3', 'Q2'), ('MT0010465830.mp3', 'Q1'), ('MT0006510599.mp3', 'Q2'), ('MT0002297016.mp3', 'Q1')]\n",
      "Q3 Euclidean100: MT0000379144.mp3 [('MT0009010830.mp3', 'Q1'), ('MT0003778826.mp3', 'Q4'), ('MT0015005100.mp3', 'Q1'), ('MT0028627699.mp3', 'Q1'), ('MT0012124855.mp3', 'Q2'), ('MT0000044741.mp3', 'Q3'), ('MT0005478759.mp3', 'Q1'), ('MT0027035970.mp3', 'Q1'), ('MT0003794106.mp3', 'Q1'), ('MT0000992846.mp3', 'Q1'), ('MT0031996897.mp3', 'Q1'), ('MT0001376988.mp3', 'Q2'), ('MT0009208842.mp3', 'Q1'), ('MT0002262181.mp3', 'Q1'), ('MT0005737276.mp3', 'Q1'), ('MT0010465830.mp3', 'Q1'), ('MT0018031959.mp3', 'Q1'), ('MT0033958450.mp3', 'Q1'), ('MT0012041920.mp3', 'Q1'), ('MT0012396528.mp3', 'Q1')]\n",
      "Q3 Cos100: MT0000379144.mp3 [('MT0009010830.mp3', 'Q1'), ('MT0003778826.mp3', 'Q4'), ('MT0015005100.mp3', 'Q1'), ('MT0028627699.mp3', 'Q1'), ('MT0012124855.mp3', 'Q2'), ('MT0027035970.mp3', 'Q1'), ('MT0000044741.mp3', 'Q3'), ('MT0003794106.mp3', 'Q1'), ('MT0005478759.mp3', 'Q1'), ('MT0002262181.mp3', 'Q1'), ('MT0031996897.mp3', 'Q1'), ('MT0000992846.mp3', 'Q1'), ('MT0001376988.mp3', 'Q2'), ('MT0009208842.mp3', 'Q1'), ('MT0010465830.mp3', 'Q1'), ('MT0005737276.mp3', 'Q1'), ('MT0018031959.mp3', 'Q1'), ('MT0033958450.mp3', 'Q1'), ('MT0008222676.mp3', 'Q1'), ('MT0012041920.mp3', 'Q1')]\n",
      "Q3 Manhattan100: MT0000379144.mp3 [('MT0015005100.mp3', 'Q1'), ('MT0009010830.mp3', 'Q1'), ('MT0031996897.mp3', 'Q1'), ('MT0012124855.mp3', 'Q2'), ('MT0028627699.mp3', 'Q1'), ('MT0003778826.mp3', 'Q4'), ('MT0000992846.mp3', 'Q1'), ('MT0001376988.mp3', 'Q2'), ('MT0000044741.mp3', 'Q3'), ('MT0005478759.mp3', 'Q1'), ('MT0027035970.mp3', 'Q1'), ('MT0003794106.mp3', 'Q1'), ('MT0005737276.mp3', 'Q1'), ('MT0003903675.mp3', 'Q1'), ('MT0002262181.mp3', 'Q1'), ('MT0009208842.mp3', 'Q1'), ('MT0008222676.mp3', 'Q1'), ('MT0006367176.mp3', 'Q1'), ('MT0006540794.mp3', 'Q1'), ('MT0015742096.mp3', 'Q1')]\n",
      "\n",
      "\n",
      "Q1 Euclidean: MT0000414517.mp3 [('MT0003949060.mp3', 'Q1'), ('MT0004274911.mp3', 'Q4'), ('MT0001515531.mp3', 'Q3'), ('MT0000040632.mp3', 'Q1'), ('MT0003900455.mp3', 'Q2'), ('MT0005469880.mp3', 'Q1'), ('MT0030282917.mp3', 'Q4'), ('MT0004032071.mp3', 'Q1'), ('MT0034005433.mp3', 'Q4'), ('MT0002415184.mp3', 'Q2'), ('MT0013790748.mp3', 'Q2'), ('MT0003106472.mp3', 'Q2'), ('MT0034125967.mp3', 'Q1'), ('MT0004850690.mp3', 'Q4'), ('MT0008401073.mp3', 'Q1'), ('MT0005752234.mp3', 'Q1'), ('MT0000636335.mp3', 'Q4'), ('MT0001335920.mp3', 'Q1'), ('MT0003243311.mp3', 'Q1'), ('MT0001624303.mp3', 'Q4')]\n",
      "Q1 Cos: MT0000414517.mp3 [('MT0003949060.mp3', 'Q1'), ('MT0004274911.mp3', 'Q4'), ('MT0001515531.mp3', 'Q3'), ('MT0000040632.mp3', 'Q1'), ('MT0003900455.mp3', 'Q2'), ('MT0002634024.mp3', 'Q3'), ('MT0004032071.mp3', 'Q1'), ('MT0005469880.mp3', 'Q1'), ('MT0013790748.mp3', 'Q2'), ('MT0030282917.mp3', 'Q4'), ('MT0001942272.mp3', 'Q4'), ('MT0003106472.mp3', 'Q2'), ('MT0005752234.mp3', 'Q1'), ('MT0034005433.mp3', 'Q4'), ('MT0001583214.mp3', 'Q2'), ('MT0002415184.mp3', 'Q2'), ('MT0001109401.mp3', 'Q4'), ('MT0009346128.mp3', 'Q2'), ('MT0008401073.mp3', 'Q1'), ('MT0000636335.mp3', 'Q4')]\n",
      "Q1 Manhattan: MT0000414517.mp3 [('MT0003949060.mp3', 'Q1'), ('MT0004274911.mp3', 'Q4'), ('MT0000040632.mp3', 'Q1'), ('MT0000218346.mp3', 'Q4'), ('MT0005469880.mp3', 'Q1'), ('MT0008401073.mp3', 'Q1'), ('MT0003900455.mp3', 'Q2'), ('MT0034125967.mp3', 'Q1'), ('MT0006769480.mp3', 'Q4'), ('MT0001515531.mp3', 'Q3'), ('MT0001624303.mp3', 'Q4'), ('MT0004032071.mp3', 'Q1'), ('MT0001109401.mp3', 'Q4'), ('MT0005752234.mp3', 'Q1'), ('MT0030282917.mp3', 'Q4'), ('MT0009208842.mp3', 'Q1'), ('MT0001942272.mp3', 'Q4'), ('MT0034005433.mp3', 'Q4'), ('MT0010465830.mp3', 'Q1'), ('MT0009991160.mp3', 'Q4')]\n",
      "Q1 Euclidean100: MT0000414517.mp3 [('MT0003900455.mp3', 'Q2'), ('MT0000203193.mp3', 'Q4'), ('MT0009897495.mp3', 'Q1'), ('MT0009521580.mp3', 'Q3'), ('MT0018651126.mp3', 'Q1'), ('MT0013955066.mp3', 'Q4'), ('MT0034186195.mp3', 'Q4'), ('MT0000901959.mp3', 'Q4'), ('MT0004428604.mp3', 'Q1'), ('MT0009346128.mp3', 'Q2'), ('MT0000888329.mp3', 'Q4'), ('MT0000218346.mp3', 'Q4'), ('MT0012331779.mp3', 'Q1'), ('MT0034005433.mp3', 'Q4'), ('MT0013633209.mp3', 'Q1'), ('MT0002379222.mp3', 'Q3'), ('MT0001703346.mp3', 'Q1'), ('MT0005752234.mp3', 'Q1'), ('MT0017667847.mp3', 'Q4'), ('MT0009991160.mp3', 'Q4')]\n",
      "Q1 Cos100: MT0000414517.mp3 [('MT0003900455.mp3', 'Q2'), ('MT0009897495.mp3', 'Q1'), ('MT0000203193.mp3', 'Q4'), ('MT0000901959.mp3', 'Q4'), ('MT0009521580.mp3', 'Q3'), ('MT0013955066.mp3', 'Q4'), ('MT0000888329.mp3', 'Q4'), ('MT0004428604.mp3', 'Q1'), ('MT0018651126.mp3', 'Q1'), ('MT0009346128.mp3', 'Q2'), ('MT0002379222.mp3', 'Q3'), ('MT0034186195.mp3', 'Q4'), ('MT0017667847.mp3', 'Q4'), ('MT0000218346.mp3', 'Q4'), ('MT0000040632.mp3', 'Q1'), ('MT0002634024.mp3', 'Q3'), ('MT0012331779.mp3', 'Q1'), ('MT0001703346.mp3', 'Q1'), ('MT0027835071.mp3', 'Q4'), ('MT0009991160.mp3', 'Q4')]\n",
      "Q1 Manhattan100: MT0000414517.mp3 [('MT0003900455.mp3', 'Q2'), ('MT0003949060.mp3', 'Q1'), ('MT0000203193.mp3', 'Q4'), ('MT0009521580.mp3', 'Q3'), ('MT0013955066.mp3', 'Q4'), ('MT0000218346.mp3', 'Q4'), ('MT0001333258.mp3', 'Q2'), ('MT0009897495.mp3', 'Q1'), ('MT0034186195.mp3', 'Q4'), ('MT0001703346.mp3', 'Q1'), ('MT0018651126.mp3', 'Q1'), ('MT0034005433.mp3', 'Q4'), ('MT0013633209.mp3', 'Q1'), ('MT0005469880.mp3', 'Q1'), ('MT0017797643.mp3', 'Q1'), ('MT0034125967.mp3', 'Q1'), ('MT0009346128.mp3', 'Q2'), ('MT0013161246.mp3', 'Q3'), ('MT0005752234.mp3', 'Q1'), ('MT0000040632.mp3', 'Q1')]\n",
      "\n",
      "\n",
      "Q2 Euclidean: MT0000956340.mp3 [('MT0006096934.mp3', 'Q1'), ('MT0003787478.mp3', 'Q2'), ('MT0040033011.mp3', 'Q3'), ('MT0005625762.mp3', 'Q1'), ('MT0033177286.mp3', 'Q3'), ('MT0003603772.mp3', 'Q1'), ('MT0004867185.mp3', 'Q2'), ('MT0005331755.mp3', 'Q1'), ('MT0003213835.mp3', 'Q1'), ('MT0008511909.mp3', 'Q2'), ('MT0013389935.mp3', 'Q1'), ('MT0006640142.mp3', 'Q2'), ('MT0005265641.mp3', 'Q1'), ('MT0001680969.mp3', 'Q1'), ('MT0011145388.mp3', 'Q2'), ('MT0004958762.mp3', 'Q2'), ('MT0004942017.mp3', 'Q2'), ('MT0001217651.mp3', 'Q1'), ('MT0006367176.mp3', 'Q1'), ('MT0005409948.mp3', 'Q2')]\n",
      "Q2 Cos: MT0000956340.mp3 [('MT0006096934.mp3', 'Q1'), ('MT0003787478.mp3', 'Q2'), ('MT0040033011.mp3', 'Q3'), ('MT0005625762.mp3', 'Q1'), ('MT0033177286.mp3', 'Q3'), ('MT0003603772.mp3', 'Q1'), ('MT0003213835.mp3', 'Q1'), ('MT0008511909.mp3', 'Q2'), ('MT0004867185.mp3', 'Q2'), ('MT0005331755.mp3', 'Q1'), ('MT0011145388.mp3', 'Q2'), ('MT0004958762.mp3', 'Q2'), ('MT0013389935.mp3', 'Q1'), ('MT0005265641.mp3', 'Q1'), ('MT0006640142.mp3', 'Q2'), ('MT0006367176.mp3', 'Q1'), ('MT0008570712.mp3', 'Q2'), ('MT0007535042.mp3', 'Q2'), ('MT0001680969.mp3', 'Q1'), ('MT0014576739.mp3', 'Q1')]\n",
      "Q2 Manhattan: MT0000956340.mp3 [('MT0006096934.mp3', 'Q1'), ('MT0005625762.mp3', 'Q1'), ('MT0003787478.mp3', 'Q2'), ('MT0040033011.mp3', 'Q3'), ('MT0033177286.mp3', 'Q3'), ('MT0003603772.mp3', 'Q1'), ('MT0006640142.mp3', 'Q2'), ('MT0005331755.mp3', 'Q1'), ('MT0003213835.mp3', 'Q1'), ('MT0008511909.mp3', 'Q2'), ('MT0005265641.mp3', 'Q1'), ('MT0004942017.mp3', 'Q2'), ('MT0005409948.mp3', 'Q2'), ('MT0001680969.mp3', 'Q1'), ('MT0013389935.mp3', 'Q1'), ('MT0004867185.mp3', 'Q2'), ('MT0008570712.mp3', 'Q2'), ('MT0001217651.mp3', 'Q1'), ('MT0003724610.mp3', 'Q1'), ('MT0011145388.mp3', 'Q2')]\n",
      "Q2 Euclidean100: MT0000956340.mp3 [('MT0003106472.mp3', 'Q2'), ('MT0010736208.mp3', 'Q2'), ('MT0014703649.mp3', 'Q2'), ('MT0005409948.mp3', 'Q2'), ('MT0014615863.mp3', 'Q2'), ('MT0013612461.mp3', 'Q2'), ('MT0004032071.mp3', 'Q1'), ('MT0010615428.mp3', 'Q2'), ('MT0003724610.mp3', 'Q1'), ('MT0040033011.mp3', 'Q3'), ('MT0002372242.mp3', 'Q2'), ('MT0004882280.mp3', 'Q2'), ('MT0009800907.mp3', 'Q2'), ('MT0004293364.mp3', 'Q2'), ('MT0004028719.mp3', 'Q2'), ('MT0007535042.mp3', 'Q2'), ('MT0030036616.mp3', 'Q4'), ('MT0014794891.mp3', 'Q3'), ('MT0013822237.mp3', 'Q2'), ('MT0010624346.mp3', 'Q2')]\n",
      "Q2 Cos100: MT0000956340.mp3 [('MT0003106472.mp3', 'Q2'), ('MT0010736208.mp3', 'Q2'), ('MT0014703649.mp3', 'Q2'), ('MT0005409948.mp3', 'Q2'), ('MT0014615863.mp3', 'Q2'), ('MT0004882280.mp3', 'Q2'), ('MT0013612461.mp3', 'Q2'), ('MT0003724610.mp3', 'Q1'), ('MT0002372242.mp3', 'Q2'), ('MT0004032071.mp3', 'Q1'), ('MT0010615428.mp3', 'Q2'), ('MT0040033011.mp3', 'Q3'), ('MT0007535042.mp3', 'Q2'), ('MT0004293364.mp3', 'Q2'), ('MT0009800907.mp3', 'Q2'), ('MT0004028719.mp3', 'Q2'), ('MT0030036616.mp3', 'Q4'), ('MT0004085907.mp3', 'Q2'), ('MT0010624346.mp3', 'Q2'), ('MT0014794891.mp3', 'Q3')]\n",
      "Q2 Manhattan100: MT0000956340.mp3 [('MT0003106472.mp3', 'Q2'), ('MT0010736208.mp3', 'Q2'), ('MT0014703649.mp3', 'Q2'), ('MT0014615863.mp3', 'Q2'), ('MT0005409948.mp3', 'Q2'), ('MT0004028719.mp3', 'Q2'), ('MT0002372242.mp3', 'Q2'), ('MT0007535042.mp3', 'Q2'), ('MT0004032071.mp3', 'Q1'), ('MT0004085907.mp3', 'Q2'), ('MT0003724610.mp3', 'Q1'), ('MT0004942017.mp3', 'Q2'), ('MT0013612461.mp3', 'Q2'), ('MT0010615428.mp3', 'Q2'), ('MT0040033011.mp3', 'Q3'), ('MT0035334027.mp3', 'Q2'), ('MT0011697297.mp3', 'Q2'), ('MT0004882280.mp3', 'Q2'), ('MT0009800907.mp3', 'Q2'), ('MT0010624346.mp3', 'Q2')]\n",
      "\n",
      "\n"
     ]
    }
   ],
   "source": [
    "for music in get_musics('./Queries/'):\n",
    "    print('Euclidean:', music, get_the_closest_musics(music, distance_euclidean))\n",
    "    print('Cos:', music, get_the_closest_musics(music, distance_cos))\n",
    "    print('Manhattan:', music, get_the_closest_musics(music, distance_manhattan))\n",
    "    print('Euclidean100:', music, get_the_closest_musics(music, distance_euclidean100))\n",
    "    print('Cos100:', music, get_the_closest_musics(music, distance_cos100))\n",
    "    print('Manhattan100:', music, get_the_closest_musics(music, distance_manhattan100))\n",
    "    print('\\n')"
   ]
  },
  {
   "cell_type": "markdown",
   "metadata": {},
   "source": [
    "### Análise de resultados"
   ]
  },
  {
   "cell_type": "markdown",
   "metadata": {},
   "source": [
    "Pelos resultados obtidos e analisando as músicas recomendadas para cada *query*, pode-se observar que as músicas retornadas pelas matrizes de distância do *top 100 features* não apresentam tanta similaridade às *queries* como as retornadas pelas matrizes que usam todas as *features*.\n",
    "\n",
    "Uma possível razão para esta discrepância deve-se ao facto de as *top 100 features* estarem canalizadas para distinguir entre quadrantes de emoções e não para comparar músicas num sistema de recomendações de músicas semelhantes. Outro possível motivo, é o facto de ao usar as 190 *features*, pode estar a haver *overfitting* das músicas pelo que os resultados serão mais precisos nestas músicas. Em comparação, ao usar apenas 100 *features* pode estar a ocorrer *sampling noise* fazendo com que apenas estas features não sejam suficientes para obter as melhores recomendações.\n",
    "\n",
    "\n",
    "### Tabela com a similaridade das distâncias para as diferentes músicsa em percentagem\n",
    "| Música | Euclideana - Cosseno | Euclideana - Manhattan | Manhattan - Cosseno |\n",
    "|-|-|-|-|\n",
    "|MT0000202045| 90% | 85% | 75% |\n",
    "|MT0000379144| 80% | 85% | 60% |\n",
    "|MT0000414517| 15% | 65% | 65% |\n",
    "|MT0000956340| 85% | 90% | 80% |\n",
    "|**Média**| **67.50%** | **81.25%** | **70.00%** |\n",
    "\n",
    "Comparando as músicas comuns retornadas pelas diferentes distâncias, utilizando todas as *features*, verifica-se que a distância Euclidiana e de Manhattan têm uma média de 81.25% de músicas em comum."
   ]
  },
  {
   "cell_type": "markdown",
   "metadata": {},
   "source": [
    "## Avaliação objetiva"
   ]
  },
  {
   "cell_type": "code",
   "execution_count": 69,
   "metadata": {},
   "outputs": [],
   "source": [
    "def get_metadata(file='./dataset/panda_dataset_taffc_metadata.csv'):\n",
    "    metadata = np.genfromtxt(file, delimiter=',', dtype=\"str\")\n",
    "    return metadata"
   ]
  },
  {
   "cell_type": "code",
   "execution_count": 70,
   "metadata": {},
   "outputs": [],
   "source": [
    "metadata_raw = get_metadata()\n",
    "metadata = metadata_raw[1:, [1, 3, 9, 11]]"
   ]
  },
  {
   "cell_type": "code",
   "execution_count": 71,
   "metadata": {},
   "outputs": [],
   "source": [
    "def metadata_score(metadata):\n",
    "    scores = np.zeros((900, 900))\n",
    "    np.fill_diagonal(scores, -1)\n",
    "    for i in range(metadata.shape[0]):\n",
    "        for j in range(i+1, metadata.shape[0]):\n",
    "            for k in range(metadata.shape[1]):\n",
    "                listA = metadata[i, k][1:-1].split('; ')\n",
    "                listB = metadata[j, k][1:-1].split('; ')\n",
    "                for elem in listB:\n",
    "                    scores[i, j] = scores[j, i] = scores[i, j] + (1 if elem in listA else 0)\n",
    "    return scores"
   ]
  },
  {
   "cell_type": "code",
   "execution_count": 72,
   "metadata": {},
   "outputs": [],
   "source": [
    "score_matrix = metadata_score(metadata)"
   ]
  },
  {
   "cell_type": "code",
   "execution_count": 73,
   "metadata": {},
   "outputs": [],
   "source": [
    "np.savetxt('./dataset/score_matrix.csv', score_matrix, delimiter=',', fmt='%d')"
   ]
  },
  {
   "cell_type": "code",
   "execution_count": 74,
   "metadata": {},
   "outputs": [],
   "source": [
    "def get_top_metadata_match(music, score_matrix, top=20):    \n",
    "    music_index = music_dict[music]\n",
    "    scores = score_matrix[music_index, :]\n",
    "    # -scores because np.argsort sorts the array in non decreasing order, but we need a non ascending order, so we can get the -values\n",
    "    scores_sorted = np.argsort(scores, )[-top:][::-1].astype('int16')\n",
    "    return [musics[i] for i in scores_sorted[:top]]"
   ]
  },
  {
   "cell_type": "code",
   "execution_count": 75,
   "metadata": {},
   "outputs": [
    {
     "name": "stdout",
     "output_type": "stream",
     "text": [
      "Metadata: MT0000202045.mp3 ['MT0014475915.mp3', 'MT0012862507.mp3', 'MT0000888329.mp3', 'MT0007556029.mp3', 'MT0031898123.mp3', 'MT0004867564.mp3', 'MT0001494812.mp3', 'MT0003022328.mp3', 'MT0011922905.mp3', 'MT0030369896.mp3', 'MT0007453719.mp3', 'MT0034186620.mp3', 'MT0004850690.mp3', 'MT0011938737.mp3', 'MT0034577404.mp3', 'MT0003025046.mp3', 'MT0005285696.mp3', 'MT0002846256.mp3', 'MT0001058887.mp3', 'MT0007766156.mp3']\n",
      "\n",
      "\n",
      "\n",
      "\n",
      "\n",
      "\n",
      "Metadata: MT0000379144.mp3 ['MT0031951901.mp3', 'MT0014584473.mp3', 'MT0013080259.mp3', 'MT0013416300.mp3', 'MT0011032905.mp3', 'MT0005157391.mp3', 'MT0005253065.mp3', 'MT0008170600.mp3', 'MT0007652281.mp3', 'MT0007349999.mp3', 'MT0007338724.mp3', 'MT0001526386.mp3', 'MT0004287283.mp3', 'MT0005115042.mp3', 'MT0004131058.mp3', 'MT0001929641.mp3', 'MT0001934726.mp3', 'MT0003863509.mp3', 'MT0029877658.mp3', 'MT0003114552.mp3']\n",
      "\n",
      "\n",
      "\n",
      "\n",
      "\n",
      "\n",
      "Metadata: MT0000414517.mp3 ['MT0010489498.mp3', 'MT0000040632.mp3', 'MT0010487769.mp3', 'MT0012331779.mp3', 'MT0027048677.mp3', 'MT0033397838.mp3', 'MT0002222957.mp3', 'MT0003949060.mp3', 'MT0007840454.mp3', 'MT0008222676.mp3', 'MT0010900969.mp3', 'MT0003286463.mp3', 'MT0003243311.mp3', 'MT0015005100.mp3', 'MT0002033629.mp3', 'MT0004141823.mp3', 'MT0027159893.mp3', 'MT0009729892.mp3', 'MT0004751933.mp3', 'MT0006315323.mp3']\n",
      "\n",
      "\n",
      "\n",
      "\n",
      "\n",
      "\n",
      "Metadata: MT0000956340.mp3 ['MT0016743722.mp3', 'MT0014615863.mp3', 'MT0013885218.mp3', 'MT0004293364.mp3', 'MT0033097471.mp3', 'MT0014845647.mp3', 'MT0012001409.mp3', 'MT0001927746.mp3', 'MT0001891229.mp3', 'MT0010897525.mp3', 'MT0029099688.mp3', 'MT0012914763.mp3', 'MT0004459450.mp3', 'MT0009217411.mp3', 'MT0005897799.mp3', 'MT0032957418.mp3', 'MT0014817509.mp3', 'MT0015541501.mp3', 'MT0002372242.mp3', 'MT0015962332.mp3']\n",
      "\n",
      "\n",
      "\n",
      "\n",
      "\n",
      "\n"
     ]
    }
   ],
   "source": [
    "for music in get_musics('./Queries/'):\n",
    "    print('Metadata:', music, get_top_metadata_match(music, score_matrix))\n",
    "    print('\\n'*5)"
   ]
  },
  {
   "cell_type": "code",
   "execution_count": 76,
   "metadata": {},
   "outputs": [],
   "source": [
    "def precision(music, score_matrix, distance, top=20):\n",
    "    m = get_top_metadata_match(music, score_matrix, top)\n",
    "    d = get_the_closest_musics(music, distance, top)\n",
    "    intersect = np.intersect1d(m, d)\n",
    "    p = len(intersect) / top * 100\n",
    "    print('%.2f%%' % p, intersect)\n",
    "    return p, intersect\n"
   ]
  },
  {
   "cell_type": "code",
   "execution_count": 77,
   "metadata": {},
   "outputs": [],
   "source": [
    "def metric_precision():\n",
    "    for music in get_musics('./Queries/'):\n",
    "        print('MUSIC:', music)\n",
    "        print('\\tEuclidean: ', end='')\n",
    "        precision(music, score_matrix, distance_euclidean)\n",
    "        print('\\tManhattan: ', end='')\n",
    "        precision(music, score_matrix, distance_manhattan)\n",
    "        print('\\tCos: ', end='')\n",
    "        precision(music, score_matrix, distance_cos)\n",
    "        print('\\tEuclidean TOP 100: ', end='')\n",
    "        precision(music, score_matrix, distance_euclidean100)\n",
    "        print('\\tManhattan TOP 100: ', end='')\n",
    "        precision(music, score_matrix, distance_manhattan100)\n",
    "        print('\\tCos TOP 100: ', end='')\n",
    "        precision(music, score_matrix, distance_cos100)"
   ]
  },
  {
   "cell_type": "code",
   "execution_count": 78,
   "metadata": {},
   "outputs": [
    {
     "name": "stdout",
     "output_type": "stream",
     "text": [
      "MUSIC: MT0000202045.mp3\n",
      "\tEuclidean: Q4 5.00% ['MT0007766156.mp3']\n",
      "\tManhattan: Q4 0.00% []\n",
      "\tCos: Q4 5.00% ['MT0007766156.mp3']\n",
      "\tEuclidean TOP 100: Q4 0.00% []\n",
      "\tManhattan TOP 100: Q4 0.00% []\n",
      "\tCos TOP 100: Q4 0.00% []\n",
      "MUSIC: MT0000379144.mp3\n",
      "\tEuclidean: Q3 0.00% []\n",
      "\tManhattan: Q3 0.00% []\n",
      "\tCos: Q3 0.00% []\n",
      "\tEuclidean TOP 100: Q3 0.00% []\n",
      "\tManhattan TOP 100: Q3 0.00% []\n",
      "\tCos TOP 100: Q3 0.00% []\n",
      "MUSIC: MT0000414517.mp3\n",
      "\tEuclidean: Q1 15.00% ['MT0000040632.mp3' 'MT0003243311.mp3' 'MT0003949060.mp3']\n",
      "\tManhattan: Q1 10.00% ['MT0000040632.mp3' 'MT0003949060.mp3']\n",
      "\tCos: Q1 10.00% ['MT0000040632.mp3' 'MT0003949060.mp3']\n",
      "\tEuclidean TOP 100: Q1 5.00% ['MT0012331779.mp3']\n",
      "\tManhattan TOP 100: Q1 10.00% ['MT0000040632.mp3' 'MT0003949060.mp3']\n",
      "\tCos TOP 100: Q1 10.00% ['MT0000040632.mp3' 'MT0012331779.mp3']\n",
      "MUSIC: MT0000956340.mp3\n",
      "\tEuclidean: Q2 0.00% []\n",
      "\tManhattan: Q2 0.00% []\n",
      "\tCos: Q2 0.00% []\n",
      "\tEuclidean TOP 100: Q2 15.00% ['MT0002372242.mp3' 'MT0004293364.mp3' 'MT0014615863.mp3']\n",
      "\tManhattan TOP 100: Q2 10.00% ['MT0002372242.mp3' 'MT0014615863.mp3']\n",
      "\tCos TOP 100: Q2 15.00% ['MT0002372242.mp3' 'MT0004293364.mp3' 'MT0014615863.mp3']\n"
     ]
    }
   ],
   "source": [
    "metric_precision()"
   ]
  },
  {
   "cell_type": "markdown",
   "metadata": {},
   "source": [
    "### Análise de resultados"
   ]
  },
  {
   "cell_type": "markdown",
   "metadata": {},
   "source": [
    "De um modo geral, as precisões obtidas foram baixas. Possíveis razões encontradas para este resultado, são: (1) uso de parâmetros dos meta dados inadequados; (2) uso de meta dados mal avaliados, isto é, como os erros deste *dataset* provém do erro humano, a avaliação é subjetiva e diferente para cada pessoa; (3) uso de um *dataset* pequeno, o que pode potencializar o erro do *dataset*, referido no ponto anterior, e também levar a um *ranking* incorreto das músicas por não existirem músicas similares suficientes para o total das 20. \n",
    "\n",
    "Não foi possível encontrar nenhuma relação entre as diferentes distâncias usadas e/ou entre o número de *features* usadas dado que a precisão variou de música para música."
   ]
  },
  {
   "cell_type": "markdown",
   "metadata": {},
   "source": [
    "## Avaliação subjetiva"
   ]
  },
  {
   "cell_type": "code",
   "execution_count": 3,
   "metadata": {},
   "outputs": [],
   "source": [
    "def add_relevant(df, threshold):\n",
    "    df['relevant'] = np.where(df['mean'] > threshold, True, False)"
   ]
  },
  {
   "cell_type": "code",
   "execution_count": 4,
   "metadata": {},
   "outputs": [],
   "source": [
    "def add_mean(df, cols):\n",
    "    df['mean'] = df[cols].mean(axis=1)"
   ]
  },
  {
   "cell_type": "code",
   "execution_count": 5,
   "metadata": {},
   "outputs": [],
   "source": [
    "def add_std(df, cols):\n",
    "    df['std'] = df[cols].std(axis=1)"
   ]
  },
  {
   "cell_type": "code",
   "execution_count": 72,
   "metadata": {},
   "outputs": [],
   "source": [
    "def calculate_precision(ds):\n",
    "    return ds.value_counts()[True] / ds.count()"
   ]
  },
  {
   "cell_type": "code",
   "execution_count": 77,
   "metadata": {},
   "outputs": [],
   "source": [
    "def get_likert_scores():\n",
    "    warnings.filterwarnings(\"ignore\")\n",
    "    results = pd.DataFrame(columns=['music', 'precisionTOP', 'precisionMetadata'])\n",
    "    top_size = 20\n",
    "    values_metadata = np.zeros((1, 0))\n",
    "    values_top = np.zeros((1, 0))\n",
    "    for music in get_musics('./Queries/'):\n",
    "        df = pd.read_csv(f'./dataset/results/{music}.csv')\n",
    "        metadata = df[['M1', 'M2', 'M3']].copy()\n",
    "        top = df[['T1', 'T2', 'T3']].copy()\n",
    "\n",
    "        values_metadata = np.append(values_metadata, metadata.to_numpy())\n",
    "        values_top = np.append(values_top, top.to_numpy())\n",
    "\n",
    "        add_mean(top, ['T1', 'T2', 'T3'])\n",
    "        add_std(top,['T1', 'T2', 'T3'])\n",
    "        add_mean(metadata, ['M1', 'M2', 'M3'])\n",
    "        add_std(metadata,['M1', 'M2', 'M3'])\n",
    "        threshold = 2.5\n",
    "        add_relevant(top, threshold)\n",
    "        add_relevant(metadata, threshold)\n",
    "\n",
    "        top['music'] = df['music']\n",
    "        metadata['music'] = df['music']\n",
    "\n",
    "        top = top.set_index('music')\n",
    "        metadata = metadata.set_index('music')\n",
    "\n",
    "        top.to_csv(f'./dataset/results/{music}_top.csv', index=True)\n",
    "        metadata.to_csv(f'./dataset/results/{music}_metadata.csv', index=True)\n",
    "\n",
    "        precision_top = calculate_precision(top['relevant'])\n",
    "        precision_metadata = calculate_precision(metadata['relevant'])\n",
    "\n",
    "        results = results.append({'music': music, 'precisionTOP': precision_top, 'precisionMetadata': precision_metadata}, ignore_index=True)\n",
    "\n",
    "        users_results = pd.DataFrame(columns=['User','MeanTop', 'StdTop', 'MeanMetadata', 'StdMetadata'])\n",
    "        users_results = users_results.append({'User' : '1', 'MeanTop' : df['T1'].mean(), 'StdTop' : df['T1'].std(), 'MeanMetadata' : df['M1'].mean(), 'StdMetadata' : df['M1'].std()}, ignore_index=True)\n",
    "        users_results = users_results.append({'User' : '2', 'MeanTop' : df['T2'].mean(), 'StdTop' : df['T2'].std(), 'MeanMetadata' : df['M2'].mean(), 'StdMetadata' : df['M2'].std()}, ignore_index=True)\n",
    "        users_results = users_results.append({'User' : '3', 'MeanTop' : df['T3'].mean(), 'StdTop' : df['T3'].std(), 'MeanMetadata' : df['M3'].mean(), 'StdMetadata' : df['M3'].std()}, ignore_index=True)\n",
    "        print('Statistics for Likert scale of each student for music:', music)\n",
    "        print(users_results)\n",
    "        print('\\n')\n",
    "    return results, values_metadata, values_top"
   ]
  },
  {
   "cell_type": "code",
   "execution_count": 78,
   "metadata": {},
   "outputs": [
    {
     "name": "stdout",
     "output_type": "stream",
     "text": [
      "Statistics for Likert scale of each student for music: MT0000202045.mp3\n",
      "  User  MeanTop    StdTop  MeanMetadata  StdMetadata\n",
      "0    1     1.90  1.071153          3.10     1.165287\n",
      "1    2     1.85  1.089423          2.45     1.099043\n",
      "2    3     1.70  0.864505          2.35     1.225819\n",
      "\n",
      "\n",
      "Statistics for Likert scale of each student for music: MT0000379144.mp3\n",
      "  User  MeanTop    StdTop  MeanMetadata  StdMetadata\n",
      "0    1     2.60  1.602629          2.35     1.663066\n",
      "1    2     2.05  1.316894          1.70     1.174286\n",
      "2    3     2.30  1.719853          1.45     0.887041\n",
      "\n",
      "\n",
      "Statistics for Likert scale of each student for music: MT0000414517.mp3\n",
      "  User  MeanTop    StdTop  MeanMetadata  StdMetadata\n",
      "0    1     1.75  1.118034          2.15     1.268028\n",
      "1    2     1.60  1.142481          2.20     1.321881\n",
      "2    3     1.45  0.998683          1.45     0.998683\n",
      "\n",
      "\n",
      "Statistics for Likert scale of each student for music: MT0000956340.mp3\n",
      "  User  MeanTop    StdTop  MeanMetadata  StdMetadata\n",
      "0    1      3.3  1.625455           2.9     1.333772\n",
      "1    2      3.6  1.273206           3.2     1.239694\n",
      "2    3      3.0  1.450953           2.7     1.625455\n",
      "\n",
      "\n"
     ]
    },
    {
     "data": {
      "text/html": [
       "<div>\n",
       "<style scoped>\n",
       "    .dataframe tbody tr th:only-of-type {\n",
       "        vertical-align: middle;\n",
       "    }\n",
       "\n",
       "    .dataframe tbody tr th {\n",
       "        vertical-align: top;\n",
       "    }\n",
       "\n",
       "    .dataframe thead th {\n",
       "        text-align: right;\n",
       "    }\n",
       "</style>\n",
       "<table border=\"1\" class=\"dataframe\">\n",
       "  <thead>\n",
       "    <tr style=\"text-align: right;\">\n",
       "      <th></th>\n",
       "      <th>music</th>\n",
       "      <th>precisionTOP</th>\n",
       "      <th>precisionMetadata</th>\n",
       "    </tr>\n",
       "  </thead>\n",
       "  <tbody>\n",
       "    <tr>\n",
       "      <th>0</th>\n",
       "      <td>MT0000202045.mp3</td>\n",
       "      <td>0.20</td>\n",
       "      <td>0.40</td>\n",
       "    </tr>\n",
       "    <tr>\n",
       "      <th>1</th>\n",
       "      <td>MT0000379144.mp3</td>\n",
       "      <td>0.35</td>\n",
       "      <td>0.25</td>\n",
       "    </tr>\n",
       "    <tr>\n",
       "      <th>2</th>\n",
       "      <td>MT0000414517.mp3</td>\n",
       "      <td>0.10</td>\n",
       "      <td>0.25</td>\n",
       "    </tr>\n",
       "    <tr>\n",
       "      <th>3</th>\n",
       "      <td>MT0000956340.mp3</td>\n",
       "      <td>0.65</td>\n",
       "      <td>0.55</td>\n",
       "    </tr>\n",
       "  </tbody>\n",
       "</table>\n",
       "</div>"
      ],
      "text/plain": [
       "              music  precisionTOP  precisionMetadata\n",
       "0  MT0000202045.mp3          0.20               0.40\n",
       "1  MT0000379144.mp3          0.35               0.25\n",
       "2  MT0000414517.mp3          0.10               0.25\n",
       "3  MT0000956340.mp3          0.65               0.55"
      ]
     },
     "execution_count": 78,
     "metadata": {},
     "output_type": "execute_result"
    }
   ],
   "source": [
    "res, values_metadata, values_top = get_likert_scores()\n",
    "res"
   ]
  },
  {
   "cell_type": "code",
   "execution_count": 79,
   "metadata": {},
   "outputs": [
    {
     "name": "stdout",
     "output_type": "stream",
     "text": [
      "Total recomentations [TOP] mean: 2.2583333333333333\n",
      "Total recomentations [TOP] std: 1.437566423586132\n",
      "Total recomentations [METADATA] mean: 2.3333333333333335\n",
      "Total recomentations [METADATA] std: 1.359125535858341\n"
     ]
    }
   ],
   "source": [
    "print(\"Total recomentations [TOP] mean:\", values_top.mean())\n",
    "print(\"Total recomentations [TOP] std:\", values_top.std())\n",
    "print(\"Total recomentations [METADATA] mean:\", values_metadata.mean())\n",
    "print(\"Total recomentations [METADATA] std:\", values_metadata.std())"
   ]
  },
  {
   "cell_type": "code",
   "execution_count": 80,
   "metadata": {},
   "outputs": [
    {
     "name": "stdout",
     "output_type": "stream",
     "text": [
      "Likert for music MT0000202045.mp3 by metadata\n",
      "               music  M1  M2  M3      mean       std  relevant\n",
      "0   MT0033841575.mp3   5   5   5  5.000000  0.000000      True\n",
      "1   MT0027002641.mp3   3   2   3  2.666667  0.577350      True\n",
      "2   MT0030487841.mp3   5   4   4  4.333333  0.577350      True\n",
      "3   MT0008575372.mp3   2   2   1  1.666667  0.577350     False\n",
      "4   MT0014576739.mp3   3   2   2  2.333333  0.577350     False\n",
      "5   MT0030422114.mp3   3   1   1  1.666667  1.154701     False\n",
      "6   MT0003390733.mp3   3   3   1  2.333333  1.154701     False\n",
      "7   MT0027835071.mp3   2   2   1  1.666667  0.577350     False\n",
      "8   MT0011145388.mp3   2   3   2  2.333333  0.577350     False\n",
      "9   MT0009188643.mp3   4   2   3  3.000000  1.000000      True\n",
      "10  MT0010617945.mp3   2   2   3  2.333333  0.577350     False\n",
      "11  MT0009213083.mp3   3   1   3  2.333333  1.154701     False\n",
      "12  MT0005331755.mp3   4   3   2  3.000000  1.000000      True\n",
      "13  MT0002233402.mp3   4   3   4  3.666667  0.577350      True\n",
      "14  MT0026727455.mp3   1   1   1  1.000000  0.000000     False\n",
      "15  MT0005265641.mp3   2   3   2  2.333333  0.577350     False\n",
      "16  MT0010344415.mp3   2   3   2  2.333333  0.577350     False\n",
      "17  MT0000711493.mp3   5   4   4  4.333333  0.577350      True\n",
      "18  MT0018029465.mp3   4   2   2  2.666667  1.154701      True\n",
      "19  MT0005469880.mp3   3   1   1  1.666667  1.154701     False\n"
     ]
    }
   ],
   "source": [
    "print('Likert for music MT0000202045.mp3 by metadata')\n",
    "print(pd.read_csv('./dataset/results/MT0000202045.mp3_metadata.csv'))\n",
    "# The other tables can be found in ./dataset/results/{QUERY_NAME}.mp3_metadata.csv\n",
    "# or ./dataset/results/{QUERY_NAME}.mp3_top.csv"
   ]
  },
  {
   "cell_type": "markdown",
   "metadata": {},
   "source": [
    "### Análise de resultados"
   ]
  },
  {
   "cell_type": "markdown",
   "metadata": {},
   "source": [
    "Não foi possível calcular o valor do *recall*, que por sua vez impossibilitou o cálculo da *F-measure*, dado que o total de músicas relevantes do *dataset* não é conhecido. Para calcular esta métrica, poderia ser feita uma análise manual de cada música do *dataset*, ou analisar os meta dados e definir um valor *threshold*, a partir do qual podemos considerar a música relevante.\n",
    "\n",
    "A razão pela qual as precisões obtidas para o *TOP 100 features* foram baixas, deve-se ao facto de a análise subjetiva se basear na similaridade entre as músicas, sendo que as *TOP 100 features* estão canalizadas para distinguir emoções. Já na análise pelos meta dados, teve em conta o estilo, o género e o autor da música, o que levou a uma precisão um pouco melhor. Isto pode dever-se ao facto destes meta dados estarem mais próximos do nosso critério de avaliação. **Estes resultados podem ser observados ao calcular a média e desvio padrão dasmúsicas avaliadas subjetivamente, mostrando que a média das recomendações do *Top 100 features* ser pior do que a que recorre aos meta dados**"
   ]
  }
 ],
 "metadata": {
  "interpreter": {
   "hash": "bb720e3feff8a7f978570639659ad5ff759ac68ba52e73c200d9aa6cfb846423"
  },
  "kernelspec": {
   "display_name": "Python 3.9.7 ('base')",
   "language": "python",
   "name": "python3"
  },
  "language_info": {
   "codemirror_mode": {
    "name": "ipython",
    "version": 3
   },
   "file_extension": ".py",
   "mimetype": "text/x-python",
   "name": "python",
   "nbconvert_exporter": "python",
   "pygments_lexer": "ipython3",
   "version": "3.9.7"
  },
  "orig_nbformat": 4
 },
 "nbformat": 4,
 "nbformat_minor": 2
}
