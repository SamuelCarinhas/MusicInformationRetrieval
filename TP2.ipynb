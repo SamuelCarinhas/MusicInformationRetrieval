{
 "cells": [
  {
   "cell_type": "markdown",
   "metadata": {},
   "source": [
    "# Trabalho Prático 2"
   ]
  },
  {
   "cell_type": "code",
   "execution_count": 2,
   "metadata": {},
   "outputs": [],
   "source": [
    "import librosa\n",
    "import librosa.display\n",
    "import sounddevice as sd\n",
    "import warnings\n",
    "import numpy as np\n",
    "import matplotlib.pyplot as plt\n",
    "import os\n",
    "import scipy.stats as st"
   ]
  },
  {
   "cell_type": "markdown",
   "metadata": {},
   "source": [
    "## Extração de features"
   ]
  },
  {
   "cell_type": "code",
   "execution_count": 18,
   "metadata": {},
   "outputs": [],
   "source": [
    "def read_features(fileName, delim=','):\n",
    "    return np.genfromtxt(fileName, delimiter=delim)"
   ]
  },
  {
   "cell_type": "code",
   "execution_count": 19,
   "metadata": {},
   "outputs": [],
   "source": [
    "def clean_data(data):\n",
    "    nl, nc = data.shape\n",
    "    return data[1:, 1:(nc-1)]"
   ]
  },
  {
   "cell_type": "code",
   "execution_count": 22,
   "metadata": {},
   "outputs": [],
   "source": [
    "def normalize_features(features):\n",
    "    normalized = np.zeros(features.shape)\n",
    "    nl, nc = features.shape\n",
    "\n",
    "    for i in range(nc):\n",
    "        vmax = features[:, i].max()\n",
    "        vmin = features[:, i].min()\n",
    "        normalized[:, i] = (features[:, i] - vmin) / (vmax - vmin)\n",
    "    \n",
    "    return normalized"
   ]
  },
  {
   "cell_type": "code",
   "execution_count": 23,
   "metadata": {},
   "outputs": [],
   "source": [
    "top100 = read_features('./dataset/top100_features.csv')\n",
    "top100 = clean_data(top100)\n",
    "top100_normalized = normalize_features(top100)\n",
    "\n",
    "np.savetxt('./dataset/top100_features_normalized.csv', top100_normalized, delimiter=',')"
   ]
  },
  {
   "cell_type": "code",
   "execution_count": 29,
   "metadata": {},
   "outputs": [],
   "source": [
    "def get_musics():\n",
    "    files = os.listdir('./dataset/musics/')\n",
    "    print(f'{len(files)} musics found')"
   ]
  },
  {
   "cell_type": "code",
   "execution_count": 30,
   "metadata": {},
   "outputs": [
    {
     "name": "stdout",
     "output_type": "stream",
     "text": [
      "900 musics found\n"
     ]
    }
   ],
   "source": [
    "get_musics()"
   ]
  },
  {
   "cell_type": "code",
   "execution_count": 62,
   "metadata": {},
   "outputs": [],
   "source": [
    "def get_statistics(feature):\n",
    "    print(feature.shape)\n",
    "    nl, nc = feature.shape\n",
    "    feature_statistics = np.zeros((nl, 7))\n",
    "    for i in range(nl):\n",
    "        mean = feature[i, :].mean()\n",
    "        std = feature[i, :].std()\n",
    "        skew = st.skew(feature[i, :])\n",
    "        kurtosis = st.kurtosis(feature[i, :])\n",
    "        median = np.median(feature[i, :])\n",
    "        mx = feature[i, :].max()\n",
    "        mn = feature[i, :].min()\n",
    "        feature_statistics[i, :] = np.array([mean, skew, std, kurtosis, median, mx, mn]) \n",
    "    return feature_statistics.flatten()"
   ]
  },
  {
   "cell_type": "code",
   "execution_count": 60,
   "metadata": {},
   "outputs": [],
   "source": [
    "def extract_features(audioName):\n",
    "    sample_rate = 22050\n",
    "    use_mono = True\n",
    "    warnings.filterwarnings('ignore')\n",
    "    f0_min_freq = 20\n",
    "    f0_max_freq = sample_rate//2\n",
    "    mfcc_dim = 13\n",
    "\n",
    "    music, _ = librosa.load(audioName, sr=sample_rate, mono=use_mono)\n",
    "\n",
    "    mfcc = librosa.feature.mfcc(music, n_mfcc=mfcc_dim)\n",
    "    sp_centroid = librosa.feature.spectral_centroid(music)\n",
    "    sp_bandwidth = librosa.feature.spectral_bandwidth(music)\n",
    "    sp_contrast = librosa.feature.spectral_contrast(music, n_bands=6)\n",
    "    sp_flatness = librosa.feature.spectral_flatness(music)\n",
    "    sp_rolloff = librosa.feature.spectral_rolloff(music)    \n",
    "    f0 = librosa.yin(music, fmin=f0_min_freq, fmax=f0_max_freq)\n",
    "    rms = librosa.feature.rms(music)\n",
    "    zcr = librosa.feature.zero_crossing_rate(music)\n",
    "    tempo = librosa.beat.tempo(music)\n",
    "    \n",
    "    features = [mfcc, sp_centroid, sp_bandwidth, sp_contrast, sp_flatness, sp_rolloff, f0, rms, zcr]\n",
    "\n",
    "    statistics = np.zeros(190)\n",
    "    prev = 0\n",
    "    for f in features:\n",
    "        stats = get_statistics(f)\n",
    "        print(stats, len(stats))\n",
    "        statistics[prev:prev+len(stats)] = stats\n",
    "        prev += len(stats)\n",
    "    \n",
    "    print(statistics)\n",
    "\n",
    "    "
   ]
  },
  {
   "cell_type": "code",
   "execution_count": 63,
   "metadata": {},
   "outputs": [
    {
     "name": "stdout",
     "output_type": "stream",
     "text": [
      "(13, 1295)\n",
      "[-2.30354630e+02 -7.10278009e-01  8.80596695e+01  1.78219293e+00\n",
      " -2.31613525e+02 -5.62219925e+01 -5.81123352e+02  1.00476913e+02\n",
      " -5.92350362e-01  1.98916683e+01  2.38946372e+00  1.00342712e+02\n",
      "  1.54593323e+02  0.00000000e+00 -3.22840118e+01 -4.76053778e-01\n",
      "  3.55913696e+01 -8.92932828e-01 -2.45100098e+01  3.11522980e+01\n",
      " -1.22276459e+02  2.87400341e+01  7.85626681e-01  1.94590759e+01\n",
      "  3.50872563e-01  2.47215195e+01  9.88948669e+01 -1.49498472e+01\n",
      " -9.85208797e+00 -1.38887335e+00  1.31589537e+01  2.94671647e+00\n",
      " -7.51127052e+00  1.83777161e+01 -7.07550888e+01 -1.56655493e+01\n",
      " -5.88064407e-01  1.65415745e+01 -3.50207622e-01 -1.26428833e+01\n",
      "  1.89461994e+01 -6.37574654e+01 -5.18498659e+00  6.29570232e-01\n",
      "  1.07078934e+01  9.92998722e-01 -6.13803768e+00  3.63544731e+01\n",
      " -3.53819580e+01 -1.68022370e+00 -2.18032616e-03  8.89746094e+00\n",
      "  1.94943861e-01 -1.63631082e+00  2.66682339e+01 -3.29146652e+01\n",
      " -1.43120260e+01 -2.79983162e-01  8.71228600e+00  1.44656712e-01\n",
      " -1.37812634e+01  1.07496815e+01 -4.32564392e+01 -2.23230267e+00\n",
      " -6.74988304e-02  7.95383358e+00 -1.27614106e-01 -2.36970258e+00\n",
      "  2.13476143e+01 -2.67865944e+01 -5.93310308e+00 -6.38440632e-02\n",
      "  7.58979750e+00  5.04735123e-01 -5.74604702e+00  1.81268024e+01\n",
      " -3.69384155e+01  6.49562550e+00  1.59027165e-01  8.03526306e+00\n",
      "  4.15972523e-01  6.40214825e+00  3.81536255e+01 -1.88674469e+01\n",
      " -2.46414280e+00 -3.31705930e-01  6.49515581e+00  7.99015226e-01\n",
      " -2.22602105e+00  1.56446342e+01 -3.23461075e+01] 91\n",
      "(1, 1295)\n",
      "[ 2.13144500e+03  1.18557287e-01  3.41372065e+02 -1.93867023e-01\n",
      "  2.14066493e+03  3.33890372e+03  1.26646810e+03] 7\n",
      "(1, 1295)\n",
      "[ 2.01144457e+03  2.07376455e-01  4.93709090e+02 -1.25097125e+00\n",
      "  1.94497086e+03  3.04877406e+03  1.18196105e+03] 7\n",
      "(7, 1295)\n",
      "[ 1.22790294e+01  1.44131639e+00  4.11859645e+00  3.76543352e+00\n",
      "  1.15698225e+01  3.68096457e+01  4.47299066e+00  1.51111778e+01\n",
      "  4.47834885e-01  3.92908798e+00  7.55198599e-01  1.49153075e+01\n",
      "  3.68994875e+01  5.25028395e+00  2.00853074e+01  2.34303683e-01\n",
      "  4.69932048e+00  1.86381496e-02  1.97813853e+01  3.92748979e+01\n",
      "  6.42687898e+00  2.00492782e+01  5.58472207e-01  4.37542245e+00\n",
      "  3.79772386e-01  1.95260367e+01  4.07102844e+01  9.85699416e+00\n",
      "  1.96279261e+01  4.79074835e-01  4.56315942e+00 -2.73921450e-01\n",
      "  1.90805269e+01  3.57056818e+01  9.52173486e+00  2.16168837e+01\n",
      "  8.19956100e-01  7.07217368e+00 -1.42829173e-01  1.98808924e+01\n",
      "  4.58198441e+01  1.09866556e+01  3.17257575e+01  6.48379347e-01\n",
      "  2.21564791e+00  2.29712671e-01  3.13835515e+01  3.99583135e+01\n",
      "  2.68482778e+01] 49\n",
      "(1, 1295)\n",
      "[1.24470377e-02 3.27170980e+00 1.69826597e-02 1.87964895e+01\n",
      " 5.64112142e-03 2.07616150e-01 2.12543222e-04] 7\n",
      "(1, 1295)\n",
      "[ 4.02239403e+03  8.90899957e-01  1.06303248e+03 -2.17892718e-01\n",
      "  3.59604492e+03  7.25668945e+03  2.16408691e+03] 7\n",
      "(1295,)\n"
     ]
    },
    {
     "ename": "ValueError",
     "evalue": "not enough values to unpack (expected 2, got 1)",
     "output_type": "error",
     "traceback": [
      "\u001b[1;31m---------------------------------------------------------------------------\u001b[0m",
      "\u001b[1;31mValueError\u001b[0m                                Traceback (most recent call last)",
      "\u001b[1;32mc:\\Users\\carin\\OneDrive\\Documentos\\UC\\3-Ano\\MULT\\MusicInformationRetrieval\\TP2.ipynb Cell 12'\u001b[0m in \u001b[0;36m<cell line: 1>\u001b[1;34m()\u001b[0m\n\u001b[1;32m----> <a href='vscode-notebook-cell:/c%3A/Users/carin/OneDrive/Documentos/UC/3-Ano/MULT/MusicInformationRetrieval/TP2.ipynb#ch0000018?line=0'>1</a>\u001b[0m extract_features(\u001b[39m'\u001b[39;49m\u001b[39m./dataset/musics/MT0000004637.mp3\u001b[39;49m\u001b[39m'\u001b[39;49m)\n",
      "\u001b[1;32mc:\\Users\\carin\\OneDrive\\Documentos\\UC\\3-Ano\\MULT\\MusicInformationRetrieval\\TP2.ipynb Cell 11'\u001b[0m in \u001b[0;36mextract_features\u001b[1;34m(audioName)\u001b[0m\n\u001b[0;32m     <a href='vscode-notebook-cell:/c%3A/Users/carin/OneDrive/Documentos/UC/3-Ano/MULT/MusicInformationRetrieval/TP2.ipynb#ch0000013?line=24'>25</a>\u001b[0m prev \u001b[39m=\u001b[39m \u001b[39m0\u001b[39m\n\u001b[0;32m     <a href='vscode-notebook-cell:/c%3A/Users/carin/OneDrive/Documentos/UC/3-Ano/MULT/MusicInformationRetrieval/TP2.ipynb#ch0000013?line=25'>26</a>\u001b[0m \u001b[39mfor\u001b[39;00m f \u001b[39min\u001b[39;00m features:\n\u001b[1;32m---> <a href='vscode-notebook-cell:/c%3A/Users/carin/OneDrive/Documentos/UC/3-Ano/MULT/MusicInformationRetrieval/TP2.ipynb#ch0000013?line=26'>27</a>\u001b[0m     stats \u001b[39m=\u001b[39m get_statistics(f)\n\u001b[0;32m     <a href='vscode-notebook-cell:/c%3A/Users/carin/OneDrive/Documentos/UC/3-Ano/MULT/MusicInformationRetrieval/TP2.ipynb#ch0000013?line=27'>28</a>\u001b[0m     \u001b[39mprint\u001b[39m(stats, \u001b[39mlen\u001b[39m(stats))\n\u001b[0;32m     <a href='vscode-notebook-cell:/c%3A/Users/carin/OneDrive/Documentos/UC/3-Ano/MULT/MusicInformationRetrieval/TP2.ipynb#ch0000013?line=28'>29</a>\u001b[0m     statistics[prev:prev\u001b[39m+\u001b[39m\u001b[39mlen\u001b[39m(stats)] \u001b[39m=\u001b[39m stats\n",
      "\u001b[1;32mc:\\Users\\carin\\OneDrive\\Documentos\\UC\\3-Ano\\MULT\\MusicInformationRetrieval\\TP2.ipynb Cell 10'\u001b[0m in \u001b[0;36mget_statistics\u001b[1;34m(feature)\u001b[0m\n\u001b[0;32m      <a href='vscode-notebook-cell:/c%3A/Users/carin/OneDrive/Documentos/UC/3-Ano/MULT/MusicInformationRetrieval/TP2.ipynb#ch0000020?line=0'>1</a>\u001b[0m \u001b[39mdef\u001b[39;00m \u001b[39mget_statistics\u001b[39m(feature):\n\u001b[0;32m      <a href='vscode-notebook-cell:/c%3A/Users/carin/OneDrive/Documentos/UC/3-Ano/MULT/MusicInformationRetrieval/TP2.ipynb#ch0000020?line=1'>2</a>\u001b[0m     \u001b[39mprint\u001b[39m(feature\u001b[39m.\u001b[39mshape)\n\u001b[1;32m----> <a href='vscode-notebook-cell:/c%3A/Users/carin/OneDrive/Documentos/UC/3-Ano/MULT/MusicInformationRetrieval/TP2.ipynb#ch0000020?line=2'>3</a>\u001b[0m     nl, nc \u001b[39m=\u001b[39m feature\u001b[39m.\u001b[39mshape\n\u001b[0;32m      <a href='vscode-notebook-cell:/c%3A/Users/carin/OneDrive/Documentos/UC/3-Ano/MULT/MusicInformationRetrieval/TP2.ipynb#ch0000020?line=3'>4</a>\u001b[0m     feature_statistics \u001b[39m=\u001b[39m np\u001b[39m.\u001b[39mzeros((nl, \u001b[39m7\u001b[39m))\n\u001b[0;32m      <a href='vscode-notebook-cell:/c%3A/Users/carin/OneDrive/Documentos/UC/3-Ano/MULT/MusicInformationRetrieval/TP2.ipynb#ch0000020?line=4'>5</a>\u001b[0m     \u001b[39mfor\u001b[39;00m i \u001b[39min\u001b[39;00m \u001b[39mrange\u001b[39m(nl):\n",
      "\u001b[1;31mValueError\u001b[0m: not enough values to unpack (expected 2, got 1)"
     ]
    }
   ],
   "source": [
    "extract_features('./dataset/musics/MT0000004637.mp3')"
   ]
  }
 ],
 "metadata": {
  "interpreter": {
   "hash": "b306edc23623ad6d87913e5cc7573a338706d762ee1b1703cd4a2543fcddf970"
  },
  "kernelspec": {
   "display_name": "Python 3.9.11 ('Trabalho2')",
   "language": "python",
   "name": "python3"
  },
  "language_info": {
   "codemirror_mode": {
    "name": "ipython",
    "version": 3
   },
   "file_extension": ".py",
   "mimetype": "text/x-python",
   "name": "python",
   "nbconvert_exporter": "python",
   "pygments_lexer": "ipython3",
   "version": "3.9.11"
  },
  "orig_nbformat": 4
 },
 "nbformat": 4,
 "nbformat_minor": 2
}
