{
 "cells": [
  {
   "cell_type": "markdown",
   "metadata": {},
   "source": [
    "# Trabalho Prático 2"
   ]
  },
  {
   "cell_type": "code",
   "execution_count": 52,
   "metadata": {},
   "outputs": [],
   "source": [
    "import librosa\n",
    "import librosa.display\n",
    "import sounddevice as sd\n",
    "import warnings\n",
    "import numpy as np\n",
    "import matplotlib.pyplot as plt\n",
    "import os\n",
    "import scipy.stats as st\n",
    "from sklearn import preprocessing"
   ]
  },
  {
   "cell_type": "markdown",
   "metadata": {},
   "source": [
    "## Extração de features"
   ]
  },
  {
   "cell_type": "code",
   "execution_count": 53,
   "metadata": {},
   "outputs": [],
   "source": [
    "def read_features(fileName, delim=','):\n",
    "    return np.genfromtxt(fileName, delimiter=delim)"
   ]
  },
  {
   "cell_type": "code",
   "execution_count": 54,
   "metadata": {},
   "outputs": [],
   "source": [
    "def clean_data(data):\n",
    "    nl, nc = data.shape\n",
    "    return data[1:, 1:(nc-1)]"
   ]
  },
  {
   "cell_type": "code",
   "execution_count": 55,
   "metadata": {},
   "outputs": [],
   "source": [
    "def normalize(feature):\n",
    "    return preprocessing.minmax_scale(feature, feature_range=(0, 1))"
   ]
  },
  {
   "cell_type": "code",
   "execution_count": 56,
   "metadata": {},
   "outputs": [],
   "source": [
    "def normalize_features(features):\n",
    "    return np.apply_along_axis(normalize, 0, features) # 0 = columns"
   ]
  },
  {
   "cell_type": "code",
   "execution_count": 57,
   "metadata": {},
   "outputs": [],
   "source": [
    "top100 = read_features('./dataset/top100_features.csv')\n",
    "top100 = clean_data(top100)\n",
    "top100_normalized = normalize_features(top100)\n",
    "\n",
    "np.savetxt('./dataset/top100_features_normalized.csv', top100_normalized, delimiter=',')"
   ]
  },
  {
   "cell_type": "code",
   "execution_count": 58,
   "metadata": {},
   "outputs": [],
   "source": [
    "def get_musics(dir='./dataset/musics/'):\n",
    "    files = os.listdir(dir)\n",
    "    #print(f'{len(files)} musics found')\n",
    "    return sorted(files)"
   ]
  },
  {
   "cell_type": "code",
   "execution_count": 59,
   "metadata": {},
   "outputs": [],
   "source": [
    "def get_statistics(feature):\n",
    "    if len(feature.shape) == 1:\n",
    "        feature = feature.reshape(1, feature.shape[0])\n",
    "\n",
    "    nl = feature.shape[0]\n",
    "    feature_statistics = np.zeros((nl, 7))\n",
    "\n",
    "    for i in range(nl):\n",
    "        mean = feature[i, :].mean()\n",
    "        std = feature[i, :].std()\n",
    "        skew = st.skew(feature[i, :])\n",
    "        kurtosis = st.kurtosis(feature[i, :])\n",
    "        median = np.median(feature[i, :])\n",
    "        mx = feature[i, :].max()\n",
    "        mn = feature[i, :].min()\n",
    "        feature_statistics[i, :] = np.array([mean, std, skew, kurtosis, median, mx, mn]) \n",
    "    \n",
    "\n",
    "    return feature_statistics.flatten()"
   ]
  },
  {
   "cell_type": "code",
   "execution_count": 60,
   "metadata": {},
   "outputs": [],
   "source": [
    "def extract_features(audioName):\n",
    "    sample_rate = 22050\n",
    "    use_mono = True\n",
    "    warnings.filterwarnings('ignore')\n",
    "    f0_min_freq = 20\n",
    "    f0_max_freq = sample_rate//2\n",
    "    mfcc_dim = 13\n",
    "\n",
    "    music, _ = librosa.load(audioName, sr=sample_rate, mono=use_mono)\n",
    "\n",
    "    mfcc = librosa.feature.mfcc(music, n_mfcc=mfcc_dim)\n",
    "    sp_centroid = librosa.feature.spectral_centroid(music)\n",
    "    sp_bandwidth = librosa.feature.spectral_bandwidth(music)\n",
    "    sp_contrast = librosa.feature.spectral_contrast(music, n_bands=6)\n",
    "    sp_flatness = librosa.feature.spectral_flatness(music)\n",
    "    sp_rolloff = librosa.feature.spectral_rolloff(music)    \n",
    "    f0 = librosa.yin(music, fmin=f0_min_freq, fmax=f0_max_freq)\n",
    "    f0[f0 == f0_max_freq] = 0\n",
    "    rms = librosa.feature.rms(music)\n",
    "    zcr = librosa.feature.zero_crossing_rate(music)\n",
    "    tempo = librosa.beat.tempo(music)\n",
    "    \n",
    "    features = [mfcc, sp_centroid, sp_bandwidth, sp_contrast, sp_flatness, sp_rolloff, f0, rms, zcr]\n",
    "\n",
    "    statistics = np.zeros(190)\n",
    "    prev = 0\n",
    "    for f in features:\n",
    "        stats = get_statistics(f)\n",
    "        #print(stats, len(stats))\n",
    "        statistics[prev:prev+len(stats)] = stats\n",
    "        prev += len(stats)\n",
    "\n",
    "    statistics[-1] = tempo\n",
    "    return statistics.reshape(1, 190)\n",
    "\n",
    "    "
   ]
  },
  {
   "cell_type": "code",
   "execution_count": 61,
   "metadata": {},
   "outputs": [
    {
     "ename": "KeyboardInterrupt",
     "evalue": "",
     "output_type": "error",
     "traceback": [
      "\u001b[1;31m---------------------------------------------------------------------------\u001b[0m",
      "\u001b[1;31mKeyboardInterrupt\u001b[0m                         Traceback (most recent call last)",
      "\u001b[1;32mc:\\Users\\carin\\OneDrive\\Documentos\\UC\\3-Ano\\MULT\\MusicInformationRetrieval\\TP2.ipynb Cell 12'\u001b[0m in \u001b[0;36m<cell line: 4>\u001b[1;34m()\u001b[0m\n\u001b[0;32m      <a href='vscode-notebook-cell:/c%3A/Users/carin/OneDrive/Documentos/UC/3-Ano/MULT/MusicInformationRetrieval/TP2.ipynb#ch0000011?line=2'>3</a>\u001b[0m features \u001b[39m=\u001b[39m np\u001b[39m.\u001b[39mzeros((\u001b[39m900\u001b[39m, \u001b[39m190\u001b[39m))\n\u001b[0;32m      <a href='vscode-notebook-cell:/c%3A/Users/carin/OneDrive/Documentos/UC/3-Ano/MULT/MusicInformationRetrieval/TP2.ipynb#ch0000011?line=3'>4</a>\u001b[0m \u001b[39mfor\u001b[39;00m i, music \u001b[39min\u001b[39;00m \u001b[39menumerate\u001b[39m (musics):\n\u001b[1;32m----> <a href='vscode-notebook-cell:/c%3A/Users/carin/OneDrive/Documentos/UC/3-Ano/MULT/MusicInformationRetrieval/TP2.ipynb#ch0000011?line=4'>5</a>\u001b[0m     features[i, :] \u001b[39m=\u001b[39m extract_features(\u001b[39mf\u001b[39;49m\u001b[39m'\u001b[39;49m\u001b[39m./dataset/musics/\u001b[39;49m\u001b[39m{\u001b[39;49;00mmusic\u001b[39m}\u001b[39;49;00m\u001b[39m'\u001b[39;49m)\n",
      "\u001b[1;32mc:\\Users\\carin\\OneDrive\\Documentos\\UC\\3-Ano\\MULT\\MusicInformationRetrieval\\TP2.ipynb Cell 11'\u001b[0m in \u001b[0;36mextract_features\u001b[1;34m(audioName)\u001b[0m\n\u001b[0;32m      <a href='vscode-notebook-cell:/c%3A/Users/carin/OneDrive/Documentos/UC/3-Ano/MULT/MusicInformationRetrieval/TP2.ipynb#ch0000010?line=5'>6</a>\u001b[0m f0_max_freq \u001b[39m=\u001b[39m sample_rate\u001b[39m/\u001b[39m\u001b[39m/\u001b[39m\u001b[39m2\u001b[39m\n\u001b[0;32m      <a href='vscode-notebook-cell:/c%3A/Users/carin/OneDrive/Documentos/UC/3-Ano/MULT/MusicInformationRetrieval/TP2.ipynb#ch0000010?line=6'>7</a>\u001b[0m mfcc_dim \u001b[39m=\u001b[39m \u001b[39m13\u001b[39m\n\u001b[1;32m----> <a href='vscode-notebook-cell:/c%3A/Users/carin/OneDrive/Documentos/UC/3-Ano/MULT/MusicInformationRetrieval/TP2.ipynb#ch0000010?line=8'>9</a>\u001b[0m music, _ \u001b[39m=\u001b[39m librosa\u001b[39m.\u001b[39;49mload(audioName, sr\u001b[39m=\u001b[39;49msample_rate, mono\u001b[39m=\u001b[39;49muse_mono)\n\u001b[0;32m     <a href='vscode-notebook-cell:/c%3A/Users/carin/OneDrive/Documentos/UC/3-Ano/MULT/MusicInformationRetrieval/TP2.ipynb#ch0000010?line=10'>11</a>\u001b[0m mfcc \u001b[39m=\u001b[39m librosa\u001b[39m.\u001b[39mfeature\u001b[39m.\u001b[39mmfcc(music, n_mfcc\u001b[39m=\u001b[39mmfcc_dim)\n\u001b[0;32m     <a href='vscode-notebook-cell:/c%3A/Users/carin/OneDrive/Documentos/UC/3-Ano/MULT/MusicInformationRetrieval/TP2.ipynb#ch0000010?line=11'>12</a>\u001b[0m sp_centroid \u001b[39m=\u001b[39m librosa\u001b[39m.\u001b[39mfeature\u001b[39m.\u001b[39mspectral_centroid(music)\n",
      "File \u001b[1;32m~\\anaconda3\\envs\\Trabalho2\\lib\\site-packages\\librosa\\util\\decorators.py:88\u001b[0m, in \u001b[0;36mdeprecate_positional_args.<locals>._inner_deprecate_positional_args.<locals>.inner_f\u001b[1;34m(*args, **kwargs)\u001b[0m\n\u001b[0;32m     <a href='file:///c%3A/Users/carin/anaconda3/envs/Trabalho2/lib/site-packages/librosa/util/decorators.py?line=85'>86</a>\u001b[0m extra_args \u001b[39m=\u001b[39m \u001b[39mlen\u001b[39m(args) \u001b[39m-\u001b[39m \u001b[39mlen\u001b[39m(all_args)\n\u001b[0;32m     <a href='file:///c%3A/Users/carin/anaconda3/envs/Trabalho2/lib/site-packages/librosa/util/decorators.py?line=86'>87</a>\u001b[0m \u001b[39mif\u001b[39;00m extra_args \u001b[39m<\u001b[39m\u001b[39m=\u001b[39m \u001b[39m0\u001b[39m:\n\u001b[1;32m---> <a href='file:///c%3A/Users/carin/anaconda3/envs/Trabalho2/lib/site-packages/librosa/util/decorators.py?line=87'>88</a>\u001b[0m     \u001b[39mreturn\u001b[39;00m f(\u001b[39m*\u001b[39margs, \u001b[39m*\u001b[39m\u001b[39m*\u001b[39mkwargs)\n\u001b[0;32m     <a href='file:///c%3A/Users/carin/anaconda3/envs/Trabalho2/lib/site-packages/librosa/util/decorators.py?line=89'>90</a>\u001b[0m \u001b[39m# extra_args > 0\u001b[39;00m\n\u001b[0;32m     <a href='file:///c%3A/Users/carin/anaconda3/envs/Trabalho2/lib/site-packages/librosa/util/decorators.py?line=90'>91</a>\u001b[0m args_msg \u001b[39m=\u001b[39m [\n\u001b[0;32m     <a href='file:///c%3A/Users/carin/anaconda3/envs/Trabalho2/lib/site-packages/librosa/util/decorators.py?line=91'>92</a>\u001b[0m     \u001b[39m\"\u001b[39m\u001b[39m{}\u001b[39;00m\u001b[39m=\u001b[39m\u001b[39m{}\u001b[39;00m\u001b[39m\"\u001b[39m\u001b[39m.\u001b[39mformat(name, arg)\n\u001b[0;32m     <a href='file:///c%3A/Users/carin/anaconda3/envs/Trabalho2/lib/site-packages/librosa/util/decorators.py?line=92'>93</a>\u001b[0m     \u001b[39mfor\u001b[39;00m name, arg \u001b[39min\u001b[39;00m \u001b[39mzip\u001b[39m(kwonly_args[:extra_args], args[\u001b[39m-\u001b[39mextra_args:])\n\u001b[0;32m     <a href='file:///c%3A/Users/carin/anaconda3/envs/Trabalho2/lib/site-packages/librosa/util/decorators.py?line=93'>94</a>\u001b[0m ]\n",
      "File \u001b[1;32m~\\anaconda3\\envs\\Trabalho2\\lib\\site-packages\\librosa\\core\\audio.py:183\u001b[0m, in \u001b[0;36mload\u001b[1;34m(path, sr, mono, offset, duration, dtype, res_type)\u001b[0m\n\u001b[0;32m    <a href='file:///c%3A/Users/carin/anaconda3/envs/Trabalho2/lib/site-packages/librosa/core/audio.py?line=179'>180</a>\u001b[0m     y \u001b[39m=\u001b[39m to_mono(y)\n\u001b[0;32m    <a href='file:///c%3A/Users/carin/anaconda3/envs/Trabalho2/lib/site-packages/librosa/core/audio.py?line=181'>182</a>\u001b[0m \u001b[39mif\u001b[39;00m sr \u001b[39mis\u001b[39;00m \u001b[39mnot\u001b[39;00m \u001b[39mNone\u001b[39;00m:\n\u001b[1;32m--> <a href='file:///c%3A/Users/carin/anaconda3/envs/Trabalho2/lib/site-packages/librosa/core/audio.py?line=182'>183</a>\u001b[0m     y \u001b[39m=\u001b[39m resample(y, orig_sr\u001b[39m=\u001b[39;49msr_native, target_sr\u001b[39m=\u001b[39;49msr, res_type\u001b[39m=\u001b[39;49mres_type)\n\u001b[0;32m    <a href='file:///c%3A/Users/carin/anaconda3/envs/Trabalho2/lib/site-packages/librosa/core/audio.py?line=184'>185</a>\u001b[0m \u001b[39melse\u001b[39;00m:\n\u001b[0;32m    <a href='file:///c%3A/Users/carin/anaconda3/envs/Trabalho2/lib/site-packages/librosa/core/audio.py?line=185'>186</a>\u001b[0m     sr \u001b[39m=\u001b[39m sr_native\n",
      "File \u001b[1;32m~\\anaconda3\\envs\\Trabalho2\\lib\\site-packages\\librosa\\util\\decorators.py:88\u001b[0m, in \u001b[0;36mdeprecate_positional_args.<locals>._inner_deprecate_positional_args.<locals>.inner_f\u001b[1;34m(*args, **kwargs)\u001b[0m\n\u001b[0;32m     <a href='file:///c%3A/Users/carin/anaconda3/envs/Trabalho2/lib/site-packages/librosa/util/decorators.py?line=85'>86</a>\u001b[0m extra_args \u001b[39m=\u001b[39m \u001b[39mlen\u001b[39m(args) \u001b[39m-\u001b[39m \u001b[39mlen\u001b[39m(all_args)\n\u001b[0;32m     <a href='file:///c%3A/Users/carin/anaconda3/envs/Trabalho2/lib/site-packages/librosa/util/decorators.py?line=86'>87</a>\u001b[0m \u001b[39mif\u001b[39;00m extra_args \u001b[39m<\u001b[39m\u001b[39m=\u001b[39m \u001b[39m0\u001b[39m:\n\u001b[1;32m---> <a href='file:///c%3A/Users/carin/anaconda3/envs/Trabalho2/lib/site-packages/librosa/util/decorators.py?line=87'>88</a>\u001b[0m     \u001b[39mreturn\u001b[39;00m f(\u001b[39m*\u001b[39margs, \u001b[39m*\u001b[39m\u001b[39m*\u001b[39mkwargs)\n\u001b[0;32m     <a href='file:///c%3A/Users/carin/anaconda3/envs/Trabalho2/lib/site-packages/librosa/util/decorators.py?line=89'>90</a>\u001b[0m \u001b[39m# extra_args > 0\u001b[39;00m\n\u001b[0;32m     <a href='file:///c%3A/Users/carin/anaconda3/envs/Trabalho2/lib/site-packages/librosa/util/decorators.py?line=90'>91</a>\u001b[0m args_msg \u001b[39m=\u001b[39m [\n\u001b[0;32m     <a href='file:///c%3A/Users/carin/anaconda3/envs/Trabalho2/lib/site-packages/librosa/util/decorators.py?line=91'>92</a>\u001b[0m     \u001b[39m\"\u001b[39m\u001b[39m{}\u001b[39;00m\u001b[39m=\u001b[39m\u001b[39m{}\u001b[39;00m\u001b[39m\"\u001b[39m\u001b[39m.\u001b[39mformat(name, arg)\n\u001b[0;32m     <a href='file:///c%3A/Users/carin/anaconda3/envs/Trabalho2/lib/site-packages/librosa/util/decorators.py?line=92'>93</a>\u001b[0m     \u001b[39mfor\u001b[39;00m name, arg \u001b[39min\u001b[39;00m \u001b[39mzip\u001b[39m(kwonly_args[:extra_args], args[\u001b[39m-\u001b[39mextra_args:])\n\u001b[0;32m     <a href='file:///c%3A/Users/carin/anaconda3/envs/Trabalho2/lib/site-packages/librosa/util/decorators.py?line=93'>94</a>\u001b[0m ]\n",
      "File \u001b[1;32m~\\anaconda3\\envs\\Trabalho2\\lib\\site-packages\\librosa\\core\\audio.py:617\u001b[0m, in \u001b[0;36mresample\u001b[1;34m(y, orig_sr, target_sr, res_type, fix, scale, **kwargs)\u001b[0m\n\u001b[0;32m    <a href='file:///c%3A/Users/carin/anaconda3/envs/Trabalho2/lib/site-packages/librosa/core/audio.py?line=614'>615</a>\u001b[0m     y_hat \u001b[39m=\u001b[39m soxr\u001b[39m.\u001b[39mresample(y\u001b[39m.\u001b[39mT, orig_sr, target_sr, quality\u001b[39m=\u001b[39mres_type)\u001b[39m.\u001b[39mT\n\u001b[0;32m    <a href='file:///c%3A/Users/carin/anaconda3/envs/Trabalho2/lib/site-packages/librosa/core/audio.py?line=615'>616</a>\u001b[0m \u001b[39melse\u001b[39;00m:\n\u001b[1;32m--> <a href='file:///c%3A/Users/carin/anaconda3/envs/Trabalho2/lib/site-packages/librosa/core/audio.py?line=616'>617</a>\u001b[0m     y_hat \u001b[39m=\u001b[39m resampy\u001b[39m.\u001b[39;49mresample(y, orig_sr, target_sr, \u001b[39mfilter\u001b[39;49m\u001b[39m=\u001b[39;49mres_type, axis\u001b[39m=\u001b[39;49m\u001b[39m-\u001b[39;49m\u001b[39m1\u001b[39;49m)\n\u001b[0;32m    <a href='file:///c%3A/Users/carin/anaconda3/envs/Trabalho2/lib/site-packages/librosa/core/audio.py?line=618'>619</a>\u001b[0m \u001b[39mif\u001b[39;00m fix:\n\u001b[0;32m    <a href='file:///c%3A/Users/carin/anaconda3/envs/Trabalho2/lib/site-packages/librosa/core/audio.py?line=619'>620</a>\u001b[0m     y_hat \u001b[39m=\u001b[39m util\u001b[39m.\u001b[39mfix_length(y_hat, size\u001b[39m=\u001b[39mn_samples, \u001b[39m*\u001b[39m\u001b[39m*\u001b[39mkwargs)\n",
      "File \u001b[1;32m~\\anaconda3\\envs\\Trabalho2\\lib\\site-packages\\resampy\\core.py:120\u001b[0m, in \u001b[0;36mresample\u001b[1;34m(x, sr_orig, sr_new, axis, filter, **kwargs)\u001b[0m\n\u001b[0;32m    <a href='file:///c%3A/Users/carin/anaconda3/envs/Trabalho2/lib/site-packages/resampy/core.py?line=117'>118</a>\u001b[0m x_2d \u001b[39m=\u001b[39m x\u001b[39m.\u001b[39mswapaxes(\u001b[39m0\u001b[39m, axis)\u001b[39m.\u001b[39mreshape((x\u001b[39m.\u001b[39mshape[axis], \u001b[39m-\u001b[39m\u001b[39m1\u001b[39m))\n\u001b[0;32m    <a href='file:///c%3A/Users/carin/anaconda3/envs/Trabalho2/lib/site-packages/resampy/core.py?line=118'>119</a>\u001b[0m y_2d \u001b[39m=\u001b[39m y\u001b[39m.\u001b[39mswapaxes(\u001b[39m0\u001b[39m, axis)\u001b[39m.\u001b[39mreshape((y\u001b[39m.\u001b[39mshape[axis], \u001b[39m-\u001b[39m\u001b[39m1\u001b[39m))\n\u001b[1;32m--> <a href='file:///c%3A/Users/carin/anaconda3/envs/Trabalho2/lib/site-packages/resampy/core.py?line=119'>120</a>\u001b[0m resample_f(x_2d, y_2d, sample_ratio, interp_win, interp_delta, precision)\n\u001b[0;32m    <a href='file:///c%3A/Users/carin/anaconda3/envs/Trabalho2/lib/site-packages/resampy/core.py?line=121'>122</a>\u001b[0m \u001b[39mreturn\u001b[39;00m y\n",
      "\u001b[1;31mKeyboardInterrupt\u001b[0m: "
     ]
    }
   ],
   "source": [
    "extract_features('./dataset/musics/MT0000004637.mp3')\n",
    "musics = get_musics()\n",
    "features = np.zeros((900, 190))\n",
    "for i, music in enumerate (musics):\n",
    "    features[i, :] = extract_features(f'./dataset/musics/{music}')\n",
    "    "
   ]
  },
  {
   "cell_type": "code",
   "execution_count": 62,
   "metadata": {},
   "outputs": [],
   "source": [
    "normalized_features = normalize_features(features)"
   ]
  },
  {
   "cell_type": "code",
   "execution_count": 63,
   "metadata": {},
   "outputs": [],
   "source": [
    "np.savetxt('./features/normalized_features.csv', normalized_features, delimiter=',', fmt='%.6f')\n",
    "np.savetxt('./features/features.csv', features, delimiter=',', fmt='%.6f')"
   ]
  },
  {
   "cell_type": "code",
   "execution_count": 64,
   "metadata": {},
   "outputs": [],
   "source": [
    "normalized_features = read_features('./features/normalized_features.csv')"
   ]
  },
  {
   "cell_type": "markdown",
   "metadata": {},
   "source": [
    "## Métricas de similaridade"
   ]
  },
  {
   "cell_type": "code",
   "execution_count": 65,
   "metadata": {},
   "outputs": [],
   "source": [
    "def euclidean_distance(featuresA, featuresB):\n",
    "    return np.sqrt(np.sum(np.square(featuresA-featuresB)))"
   ]
  },
  {
   "cell_type": "code",
   "execution_count": 66,
   "metadata": {},
   "outputs": [],
   "source": [
    "def manhattan_distance(featuresA, featuresB):\n",
    "    return np.sum(np.abs(featuresA-featuresB))"
   ]
  },
  {
   "cell_type": "code",
   "execution_count": 67,
   "metadata": {},
   "outputs": [],
   "source": [
    "def cos_distance(featuresA, featuresB):\n",
    "    return 1 - (featuresA @ featuresB) / (np.linalg.norm(featuresA) * np.linalg.norm(featuresB))"
   ]
  },
  {
   "cell_type": "code",
   "execution_count": 68,
   "metadata": {},
   "outputs": [],
   "source": [
    "def calculate_distances(features):\n",
    "    distance_euclidean = np.zeros((900, 900))\n",
    "    distance_cos = np.zeros((900, 900))\n",
    "    distance_manhattan = np.zeros((900, 900))\n",
    "    for i in range(900):\n",
    "        for j in range(i+1, 900):\n",
    "            distance_euclidean[i,j] = distance_euclidean[j,i] = euclidean_distance(features[i, :], features[j,:])\n",
    "            distance_cos[i,j] =  distance_cos[j,i] = cos_distance(features[i,:], features[j,:])\n",
    "            distance_manhattan[i,j] = distance_manhattan[j,i] = manhattan_distance(features[i, :], features[j,:])\n",
    "    return distance_euclidean, distance_cos, distance_manhattan"
   ]
  },
  {
   "cell_type": "code",
   "execution_count": 69,
   "metadata": {},
   "outputs": [],
   "source": [
    "distance_euclidean, distance_cos, distance_manhattan = calculate_distances(normalized_features)\n",
    "distance_euclidean100, distance_cos100, distance_manhattan100 = calculate_distances(top100_normalized)"
   ]
  },
  {
   "cell_type": "code",
   "execution_count": 70,
   "metadata": {},
   "outputs": [],
   "source": [
    "np.savetxt('./features/distances/distance_euclidean.csv', distance_euclidean, delimiter=',', fmt='%.6f')\n",
    "np.savetxt('./features/distances/distance_euclidean100.csv', distance_euclidean100, delimiter=',', fmt='%.6f')\n",
    "np.savetxt('./features/distances/distance_cos.csv', distance_cos, delimiter=',', fmt='%.6f')\n",
    "np.savetxt('./features/distances/distance_cos100.csv', distance_cos100, delimiter=',', fmt='%.6f')\n",
    "np.savetxt('./features/distances/distance_manhattan.csv', distance_manhattan, delimiter=',', fmt='%.6f')\n",
    "np.savetxt('./features/distances/distance_manhattan100.csv', distance_manhattan100, delimiter=',', fmt='%.6f')"
   ]
  },
  {
   "cell_type": "code",
   "execution_count": 71,
   "metadata": {},
   "outputs": [],
   "source": [
    "musics = get_musics()\n",
    "music_dict = dict((music, i) for i, music in enumerate(musics))"
   ]
  },
  {
   "cell_type": "code",
   "execution_count": 72,
   "metadata": {},
   "outputs": [],
   "source": [
    "def get_the_closest_musics(music, features_distances, number=20):\n",
    "    music_index = music_dict[music]\n",
    "    print(music_index)\n",
    "    distances = features_distances[music_index, :]\n",
    "    sorted_distances = np.argsort(distances)\n",
    "    \n",
    "    return [musics[i] for i in sorted_distances[1:number+1]]"
   ]
  },
  {
   "cell_type": "code",
   "execution_count": 73,
   "metadata": {},
   "outputs": [
    {
     "name": "stdout",
     "output_type": "stream",
     "text": [
      "[[0.40833396 0.55892695 0.08767653 ... 0.49339478 0.29677785 0.28512149]\n",
      " [0.17434797 0.81639588 0.09864405 ... 0.66779986 0.14344785 0.        ]\n",
      " [0.21986539 0.95836272 0.11175995 ... 0.73227772 0.19118833 0.        ]\n",
      " ...\n",
      " [0.22605274 0.8830899  0.22646862 ... 0.66775423 0.19149261 0.        ]\n",
      " [0.33731922 0.82533373 0.28343725 ... 0.6795957  0.26104038 0.53630904]\n",
      " [0.38793611 0.80516266 0.21350893 ... 0.54009902 0.13512837 0.26941305]]\n"
     ]
    }
   ],
   "source": [
    "print(top100_normalized)"
   ]
  },
  {
   "cell_type": "code",
   "execution_count": 75,
   "metadata": {},
   "outputs": [
    {
     "name": "stdout",
     "output_type": "stream",
     "text": [
      "10\n",
      "Euclidean: MT0000202045.mp3 ['MT0011612883.mp3', 'MT0011667212.mp3', 'MT0011697297.mp3', 'MT0011702301.mp3', 'MT0011739779.mp3', 'MT0011786799.mp3', 'MT0011821215.mp3', 'MT0011836290.mp3', 'MT0011862487.mp3', 'MT0011869625.mp3', 'MT0011886148.mp3', 'MT0011594970.mp3', 'MT0011894681.mp3', 'MT0011899302.mp3', 'MT0011906602.mp3', 'MT0011916674.mp3', 'MT0011922080.mp3', 'MT0011922905.mp3', 'MT0011930865.mp3', 'MT0011938737.mp3']\n",
      "10\n",
      "Cos: MT0000202045.mp3 ['MT0011612883.mp3', 'MT0011667212.mp3', 'MT0011697297.mp3', 'MT0011702301.mp3', 'MT0011739779.mp3', 'MT0011786799.mp3', 'MT0011821215.mp3', 'MT0011836290.mp3', 'MT0011862487.mp3', 'MT0011869625.mp3', 'MT0011886148.mp3', 'MT0011594970.mp3', 'MT0011894681.mp3', 'MT0011899302.mp3', 'MT0011906602.mp3', 'MT0011916674.mp3', 'MT0011922080.mp3', 'MT0011922905.mp3', 'MT0011930865.mp3', 'MT0011938737.mp3']\n",
      "10\n",
      "Manhattan: MT0000202045.mp3 ['MT0011612883.mp3', 'MT0011667212.mp3', 'MT0011697297.mp3', 'MT0011702301.mp3', 'MT0011739779.mp3', 'MT0011786799.mp3', 'MT0011821215.mp3', 'MT0011836290.mp3', 'MT0011862487.mp3', 'MT0011869625.mp3', 'MT0011886148.mp3', 'MT0011594970.mp3', 'MT0011894681.mp3', 'MT0011899302.mp3', 'MT0011906602.mp3', 'MT0011916674.mp3', 'MT0011922080.mp3', 'MT0011922905.mp3', 'MT0011930865.mp3', 'MT0011938737.mp3']\n",
      "10\n",
      "Euclidean100: MT0000202045.mp3 ['MT0033841575.mp3', 'MT0027002641.mp3', 'MT0030487841.mp3', 'MT0008575372.mp3', 'MT0014576739.mp3', 'MT0030422114.mp3', 'MT0003390733.mp3', 'MT0027835071.mp3', 'MT0009188643.mp3', 'MT0010617945.mp3', 'MT0011145388.mp3', 'MT0009213083.mp3', 'MT0005331755.mp3', 'MT0002233402.mp3', 'MT0026727455.mp3', 'MT0005265641.mp3', 'MT0010344415.mp3', 'MT0000711493.mp3', 'MT0004428604.mp3', 'MT0018029465.mp3']\n",
      "10\n",
      "Cos100: MT0000202045.mp3 ['MT0033841575.mp3', 'MT0027002641.mp3', 'MT0030487841.mp3', 'MT0008575372.mp3', 'MT0014576739.mp3', 'MT0030422114.mp3', 'MT0003390733.mp3', 'MT0027835071.mp3', 'MT0011145388.mp3', 'MT0009188643.mp3', 'MT0010617945.mp3', 'MT0009213083.mp3', 'MT0005331755.mp3', 'MT0002233402.mp3', 'MT0026727455.mp3', 'MT0005265641.mp3', 'MT0010344415.mp3', 'MT0000711493.mp3', 'MT0018029465.mp3', 'MT0005469880.mp3']\n",
      "10\n",
      "Manhattan100: MT0000202045.mp3 ['MT0030422114.mp3', 'MT0033841575.mp3', 'MT0027835071.mp3', 'MT0008575372.mp3', 'MT0002297016.mp3', 'MT0027002641.mp3', 'MT0030487841.mp3', 'MT0040033011.mp3', 'MT0005265641.mp3', 'MT0010617945.mp3', 'MT0009213083.mp3', 'MT0006096934.mp3', 'MT0005897799.mp3', 'MT0004428604.mp3', 'MT0026727455.mp3', 'MT0004867185.mp3', 'MT0003787478.mp3', 'MT0001340713.mp3', 'MT0009188643.mp3', 'MT0011145388.mp3']\n",
      "\n",
      "\n",
      "\n",
      "\n",
      "\n",
      "\n",
      "26\n",
      "Euclidean: MT0000379144.mp3 ['MT0011612883.mp3', 'MT0011667212.mp3', 'MT0011697297.mp3', 'MT0011702301.mp3', 'MT0011739779.mp3', 'MT0011786799.mp3', 'MT0011821215.mp3', 'MT0011836290.mp3', 'MT0011862487.mp3', 'MT0011869625.mp3', 'MT0011886148.mp3', 'MT0011594970.mp3', 'MT0011894681.mp3', 'MT0011899302.mp3', 'MT0011906602.mp3', 'MT0011916674.mp3', 'MT0011922080.mp3', 'MT0011922905.mp3', 'MT0011930865.mp3', 'MT0011938737.mp3']\n",
      "26\n",
      "Cos: MT0000379144.mp3 ['MT0011612883.mp3', 'MT0011667212.mp3', 'MT0011697297.mp3', 'MT0011702301.mp3', 'MT0011739779.mp3', 'MT0011786799.mp3', 'MT0011821215.mp3', 'MT0011836290.mp3', 'MT0011862487.mp3', 'MT0011869625.mp3', 'MT0011886148.mp3', 'MT0011594970.mp3', 'MT0011894681.mp3', 'MT0011899302.mp3', 'MT0011906602.mp3', 'MT0011916674.mp3', 'MT0011922080.mp3', 'MT0011922905.mp3', 'MT0011930865.mp3', 'MT0011938737.mp3']\n",
      "26\n",
      "Manhattan: MT0000379144.mp3 ['MT0011612883.mp3', 'MT0011667212.mp3', 'MT0011697297.mp3', 'MT0011702301.mp3', 'MT0011739779.mp3', 'MT0011786799.mp3', 'MT0011821215.mp3', 'MT0011836290.mp3', 'MT0011862487.mp3', 'MT0011869625.mp3', 'MT0011886148.mp3', 'MT0011594970.mp3', 'MT0011894681.mp3', 'MT0011899302.mp3', 'MT0011906602.mp3', 'MT0011916674.mp3', 'MT0011922080.mp3', 'MT0011922905.mp3', 'MT0011930865.mp3', 'MT0011938737.mp3']\n",
      "26\n",
      "Euclidean100: MT0000379144.mp3 ['MT0009010830.mp3', 'MT0003778826.mp3', 'MT0015005100.mp3', 'MT0028627699.mp3', 'MT0012124855.mp3', 'MT0000044741.mp3', 'MT0005478759.mp3', 'MT0027035970.mp3', 'MT0003794106.mp3', 'MT0000992846.mp3', 'MT0031996897.mp3', 'MT0001376988.mp3', 'MT0009208842.mp3', 'MT0002262181.mp3', 'MT0005737276.mp3', 'MT0010465830.mp3', 'MT0018031959.mp3', 'MT0033958450.mp3', 'MT0012041920.mp3', 'MT0012396528.mp3']\n",
      "26\n",
      "Cos100: MT0000379144.mp3 ['MT0009010830.mp3', 'MT0003778826.mp3', 'MT0015005100.mp3', 'MT0028627699.mp3', 'MT0012124855.mp3', 'MT0027035970.mp3', 'MT0000044741.mp3', 'MT0003794106.mp3', 'MT0005478759.mp3', 'MT0002262181.mp3', 'MT0031996897.mp3', 'MT0000992846.mp3', 'MT0001376988.mp3', 'MT0009208842.mp3', 'MT0010465830.mp3', 'MT0005737276.mp3', 'MT0018031959.mp3', 'MT0033958450.mp3', 'MT0008222676.mp3', 'MT0012041920.mp3']\n",
      "26\n",
      "Manhattan100: MT0000379144.mp3 ['MT0015005100.mp3', 'MT0009010830.mp3', 'MT0031996897.mp3', 'MT0012124855.mp3', 'MT0028627699.mp3', 'MT0003778826.mp3', 'MT0000992846.mp3', 'MT0001376988.mp3', 'MT0000044741.mp3', 'MT0005478759.mp3', 'MT0027035970.mp3', 'MT0003794106.mp3', 'MT0005737276.mp3', 'MT0003903675.mp3', 'MT0002262181.mp3', 'MT0009208842.mp3', 'MT0008222676.mp3', 'MT0006367176.mp3', 'MT0006540794.mp3', 'MT0015742096.mp3']\n",
      "\n",
      "\n",
      "\n",
      "\n",
      "\n",
      "\n",
      "28\n",
      "Euclidean: MT0000414517.mp3 ['MT0011612883.mp3', 'MT0011667212.mp3', 'MT0011697297.mp3', 'MT0011702301.mp3', 'MT0011739779.mp3', 'MT0011786799.mp3', 'MT0011821215.mp3', 'MT0011836290.mp3', 'MT0011862487.mp3', 'MT0011869625.mp3', 'MT0011886148.mp3', 'MT0011594970.mp3', 'MT0011894681.mp3', 'MT0011899302.mp3', 'MT0011906602.mp3', 'MT0011916674.mp3', 'MT0011922080.mp3', 'MT0011922905.mp3', 'MT0011930865.mp3', 'MT0011938737.mp3']\n",
      "28\n",
      "Cos: MT0000414517.mp3 ['MT0011612883.mp3', 'MT0011667212.mp3', 'MT0011697297.mp3', 'MT0011702301.mp3', 'MT0011739779.mp3', 'MT0011786799.mp3', 'MT0011821215.mp3', 'MT0011836290.mp3', 'MT0011862487.mp3', 'MT0011869625.mp3', 'MT0011886148.mp3', 'MT0011594970.mp3', 'MT0011894681.mp3', 'MT0011899302.mp3', 'MT0011906602.mp3', 'MT0011916674.mp3', 'MT0011922080.mp3', 'MT0011922905.mp3', 'MT0011930865.mp3', 'MT0011938737.mp3']\n",
      "28\n",
      "Manhattan: MT0000414517.mp3 ['MT0011612883.mp3', 'MT0011667212.mp3', 'MT0011697297.mp3', 'MT0011702301.mp3', 'MT0011739779.mp3', 'MT0011786799.mp3', 'MT0011821215.mp3', 'MT0011836290.mp3', 'MT0011862487.mp3', 'MT0011869625.mp3', 'MT0011886148.mp3', 'MT0011594970.mp3', 'MT0011894681.mp3', 'MT0011899302.mp3', 'MT0011906602.mp3', 'MT0011916674.mp3', 'MT0011922080.mp3', 'MT0011922905.mp3', 'MT0011930865.mp3', 'MT0011938737.mp3']\n",
      "28\n",
      "Euclidean100: MT0000414517.mp3 ['MT0003900455.mp3', 'MT0000203193.mp3', 'MT0009897495.mp3', 'MT0009521580.mp3', 'MT0018651126.mp3', 'MT0013955066.mp3', 'MT0034186195.mp3', 'MT0000901959.mp3', 'MT0004428604.mp3', 'MT0009346128.mp3', 'MT0000888329.mp3', 'MT0000218346.mp3', 'MT0012331779.mp3', 'MT0034005433.mp3', 'MT0013633209.mp3', 'MT0002379222.mp3', 'MT0001703346.mp3', 'MT0005752234.mp3', 'MT0017667847.mp3', 'MT0009991160.mp3']\n",
      "28\n",
      "Cos100: MT0000414517.mp3 ['MT0003900455.mp3', 'MT0009897495.mp3', 'MT0000203193.mp3', 'MT0000901959.mp3', 'MT0009521580.mp3', 'MT0013955066.mp3', 'MT0000888329.mp3', 'MT0004428604.mp3', 'MT0018651126.mp3', 'MT0009346128.mp3', 'MT0002379222.mp3', 'MT0034186195.mp3', 'MT0017667847.mp3', 'MT0000218346.mp3', 'MT0000040632.mp3', 'MT0002634024.mp3', 'MT0012331779.mp3', 'MT0001703346.mp3', 'MT0027835071.mp3', 'MT0009991160.mp3']\n",
      "28\n",
      "Manhattan100: MT0000414517.mp3 ['MT0003900455.mp3', 'MT0003949060.mp3', 'MT0000203193.mp3', 'MT0009521580.mp3', 'MT0013955066.mp3', 'MT0000218346.mp3', 'MT0001333258.mp3', 'MT0009897495.mp3', 'MT0034186195.mp3', 'MT0001703346.mp3', 'MT0018651126.mp3', 'MT0034005433.mp3', 'MT0013633209.mp3', 'MT0005469880.mp3', 'MT0017797643.mp3', 'MT0034125967.mp3', 'MT0009346128.mp3', 'MT0013161246.mp3', 'MT0005752234.mp3', 'MT0000040632.mp3']\n",
      "\n",
      "\n",
      "\n",
      "\n",
      "\n",
      "\n",
      "59\n",
      "Euclidean: MT0000956340.mp3 ['MT0011612883.mp3', 'MT0011667212.mp3', 'MT0011697297.mp3', 'MT0011702301.mp3', 'MT0011739779.mp3', 'MT0011786799.mp3', 'MT0011821215.mp3', 'MT0011836290.mp3', 'MT0011862487.mp3', 'MT0011869625.mp3', 'MT0011886148.mp3', 'MT0011594970.mp3', 'MT0011894681.mp3', 'MT0011899302.mp3', 'MT0011906602.mp3', 'MT0011916674.mp3', 'MT0011922080.mp3', 'MT0011922905.mp3', 'MT0011930865.mp3', 'MT0011938737.mp3']\n",
      "59\n",
      "Cos: MT0000956340.mp3 ['MT0011612883.mp3', 'MT0011667212.mp3', 'MT0011697297.mp3', 'MT0011702301.mp3', 'MT0011739779.mp3', 'MT0011786799.mp3', 'MT0011821215.mp3', 'MT0011836290.mp3', 'MT0011862487.mp3', 'MT0011869625.mp3', 'MT0011886148.mp3', 'MT0011594970.mp3', 'MT0011894681.mp3', 'MT0011899302.mp3', 'MT0011906602.mp3', 'MT0011916674.mp3', 'MT0011922080.mp3', 'MT0011922905.mp3', 'MT0011930865.mp3', 'MT0011938737.mp3']\n",
      "59\n",
      "Manhattan: MT0000956340.mp3 ['MT0011612883.mp3', 'MT0011667212.mp3', 'MT0011697297.mp3', 'MT0011702301.mp3', 'MT0011739779.mp3', 'MT0011786799.mp3', 'MT0011821215.mp3', 'MT0011836290.mp3', 'MT0011862487.mp3', 'MT0011869625.mp3', 'MT0011886148.mp3', 'MT0011594970.mp3', 'MT0011894681.mp3', 'MT0011899302.mp3', 'MT0011906602.mp3', 'MT0011916674.mp3', 'MT0011922080.mp3', 'MT0011922905.mp3', 'MT0011930865.mp3', 'MT0011938737.mp3']\n",
      "59\n",
      "Euclidean100: MT0000956340.mp3 ['MT0003106472.mp3', 'MT0010736208.mp3', 'MT0014703649.mp3', 'MT0005409948.mp3', 'MT0014615863.mp3', 'MT0013612461.mp3', 'MT0004032071.mp3', 'MT0010615428.mp3', 'MT0003724610.mp3', 'MT0040033011.mp3', 'MT0002372242.mp3', 'MT0004882280.mp3', 'MT0009800907.mp3', 'MT0004293364.mp3', 'MT0004028719.mp3', 'MT0007535042.mp3', 'MT0030036616.mp3', 'MT0014794891.mp3', 'MT0013822237.mp3', 'MT0010624346.mp3']\n",
      "59\n",
      "Cos100: MT0000956340.mp3 ['MT0003106472.mp3', 'MT0010736208.mp3', 'MT0014703649.mp3', 'MT0005409948.mp3', 'MT0014615863.mp3', 'MT0004882280.mp3', 'MT0013612461.mp3', 'MT0003724610.mp3', 'MT0002372242.mp3', 'MT0004032071.mp3', 'MT0010615428.mp3', 'MT0040033011.mp3', 'MT0007535042.mp3', 'MT0004293364.mp3', 'MT0009800907.mp3', 'MT0004028719.mp3', 'MT0030036616.mp3', 'MT0004085907.mp3', 'MT0010624346.mp3', 'MT0014794891.mp3']\n",
      "59\n",
      "Manhattan100: MT0000956340.mp3 ['MT0003106472.mp3', 'MT0010736208.mp3', 'MT0014703649.mp3', 'MT0014615863.mp3', 'MT0005409948.mp3', 'MT0004028719.mp3', 'MT0002372242.mp3', 'MT0007535042.mp3', 'MT0004032071.mp3', 'MT0004085907.mp3', 'MT0003724610.mp3', 'MT0004942017.mp3', 'MT0013612461.mp3', 'MT0010615428.mp3', 'MT0040033011.mp3', 'MT0035334027.mp3', 'MT0011697297.mp3', 'MT0004882280.mp3', 'MT0009800907.mp3', 'MT0010624346.mp3']\n",
      "\n",
      "\n",
      "\n",
      "\n",
      "\n",
      "\n"
     ]
    }
   ],
   "source": [
    "for music in get_musics('./Queries/'):\n",
    "    print('Euclidean:', music, get_the_closest_musics(music, distance_euclidean))\n",
    "    print('Cos:', music, get_the_closest_musics(music, distance_cos))\n",
    "    print('Manhattan:', music, get_the_closest_musics(music, distance_manhattan))\n",
    "    print('Euclidean100:', music, get_the_closest_musics(music, distance_euclidean100))\n",
    "    print('Cos100:', music, get_the_closest_musics(music, distance_cos100))\n",
    "    print('Manhattan100:', music, get_the_closest_musics(music, distance_manhattan100))\n",
    "    print('\\n'*5)"
   ]
  }
 ],
 "metadata": {
  "interpreter": {
   "hash": "b306edc23623ad6d87913e5cc7573a338706d762ee1b1703cd4a2543fcddf970"
  },
  "kernelspec": {
   "display_name": "Python 3.9.11 ('Trabalho2')",
   "language": "python",
   "name": "python3"
  },
  "language_info": {
   "codemirror_mode": {
    "name": "ipython",
    "version": 3
   },
   "file_extension": ".py",
   "mimetype": "text/x-python",
   "name": "python",
   "nbconvert_exporter": "python",
   "pygments_lexer": "ipython3",
   "version": "3.9.11"
  },
  "orig_nbformat": 4
 },
 "nbformat": 4,
 "nbformat_minor": 2
}
