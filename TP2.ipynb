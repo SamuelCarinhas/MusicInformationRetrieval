{
 "cells": [
  {
   "cell_type": "markdown",
   "metadata": {},
   "source": [
    "# Trabalho Prático 2"
   ]
  },
  {
   "cell_type": "code",
   "execution_count": 10,
   "metadata": {},
   "outputs": [],
   "source": [
    "import librosa\n",
    "import librosa.display\n",
    "import sounddevice as sd\n",
    "import warnings\n",
    "import numpy as np\n",
    "import matplotlib.pyplot as plt\n",
    "import os\n",
    "import scipy.stats as st\n",
    "from sklearn import preprocessing\n",
    "import pandas as pd"
   ]
  },
  {
   "cell_type": "markdown",
   "metadata": {},
   "source": [
    "## Extração de features"
   ]
  },
  {
   "cell_type": "code",
   "execution_count": 11,
   "metadata": {},
   "outputs": [],
   "source": [
    "def read_features(fileName, delim=','):\n",
    "    return np.genfromtxt(fileName, delimiter=delim)"
   ]
  },
  {
   "cell_type": "code",
   "execution_count": 12,
   "metadata": {},
   "outputs": [],
   "source": [
    "def clean_data(data):\n",
    "    nl, nc = data.shape\n",
    "    return data[1:, 1:(nc-1)]"
   ]
  },
  {
   "cell_type": "code",
   "execution_count": 13,
   "metadata": {},
   "outputs": [],
   "source": [
    "def normalize(feature):\n",
    "    return preprocessing.minmax_scale(feature, feature_range=(0, 1))"
   ]
  },
  {
   "cell_type": "code",
   "execution_count": 14,
   "metadata": {},
   "outputs": [],
   "source": [
    "def normalize_features(features):\n",
    "    return np.apply_along_axis(normalize, 0, features) # 0 = columns"
   ]
  },
  {
   "cell_type": "code",
   "execution_count": 15,
   "metadata": {},
   "outputs": [],
   "source": [
    "top100 = read_features('./dataset/top100_features.csv')\n",
    "top100 = clean_data(top100)\n",
    "top100_normalized = normalize_features(top100)\n",
    "\n",
    "np.savetxt('./dataset/top100_features_normalized.csv', top100_normalized, delimiter=',')"
   ]
  },
  {
   "cell_type": "code",
   "execution_count": 16,
   "metadata": {},
   "outputs": [],
   "source": [
    "def get_musics(dir='./dataset/musics/'):\n",
    "    files = os.listdir(dir)\n",
    "    #print(f'{len(files)} musics found')\n",
    "    return sorted(files)"
   ]
  },
  {
   "cell_type": "code",
   "execution_count": 17,
   "metadata": {},
   "outputs": [],
   "source": [
    "def get_statistics(feature):\n",
    "    if len(feature.shape) == 1:\n",
    "        feature = feature.reshape(1, feature.shape[0])\n",
    "\n",
    "    nl = feature.shape[0]\n",
    "    feature_statistics = np.zeros((nl, 7))\n",
    "\n",
    "    for i in range(nl):\n",
    "        mean = feature[i, :].mean()\n",
    "        std = feature[i, :].std()\n",
    "        skew = st.skew(feature[i, :])\n",
    "        kurtosis = st.kurtosis(feature[i, :])\n",
    "        median = np.median(feature[i, :])\n",
    "        mx = feature[i, :].max()\n",
    "        mn = feature[i, :].min()\n",
    "        feature_statistics[i, :] = np.array([mean, std, skew, kurtosis, median, mx, mn]) \n",
    "    \n",
    "\n",
    "    return feature_statistics.flatten()"
   ]
  },
  {
   "cell_type": "code",
   "execution_count": 18,
   "metadata": {},
   "outputs": [],
   "source": [
    "def extract_features(audioName):\n",
    "    sample_rate = 22050\n",
    "    use_mono = True\n",
    "    warnings.filterwarnings('ignore')\n",
    "    f0_min_freq = 20\n",
    "    f0_max_freq = sample_rate//2\n",
    "    mfcc_dim = 13\n",
    "\n",
    "    music, _ = librosa.load(audioName, sr=sample_rate, mono=use_mono)\n",
    "\n",
    "    mfcc = librosa.feature.mfcc(music, n_mfcc=mfcc_dim)\n",
    "    sp_centroid = librosa.feature.spectral_centroid(music)\n",
    "    sp_bandwidth = librosa.feature.spectral_bandwidth(music)\n",
    "    sp_contrast = librosa.feature.spectral_contrast(music, n_bands=6)\n",
    "    sp_flatness = librosa.feature.spectral_flatness(music)\n",
    "    sp_rolloff = librosa.feature.spectral_rolloff(music)    \n",
    "    f0 = librosa.yin(music, fmin=f0_min_freq, fmax=f0_max_freq)\n",
    "    f0[f0 == f0_max_freq] = 0\n",
    "    rms = librosa.feature.rms(music)\n",
    "    zcr = librosa.feature.zero_crossing_rate(music)\n",
    "    tempo = librosa.beat.tempo(music)\n",
    "    \n",
    "    features = [mfcc, sp_centroid, sp_bandwidth, sp_contrast, sp_flatness, sp_rolloff, f0, rms, zcr]\n",
    "\n",
    "    statistics = np.zeros(190)\n",
    "    prev = 0\n",
    "    for f in features:\n",
    "        stats = get_statistics(f)\n",
    "        #print(stats, len(stats))\n",
    "        statistics[prev:prev+len(stats)] = stats\n",
    "        prev += len(stats)\n",
    "\n",
    "    statistics[-1] = tempo\n",
    "    return statistics.reshape(1, 190)\n",
    "\n",
    "    "
   ]
  },
  {
   "cell_type": "code",
   "execution_count": 19,
   "metadata": {},
   "outputs": [],
   "source": [
    "musics = get_musics()"
   ]
  },
  {
   "cell_type": "code",
   "execution_count": 20,
   "metadata": {},
   "outputs": [
    {
     "data": {
      "text/plain": [
       "\"extract_features('./dataset/musics/MT0000004637.mp3')\\nmusics = get_musics()\\nfeatures = np.zeros((900, 190))\\nfor i, music in enumerate (musics):\\n    features[i, :] = extract_features(f'./dataset/musics/{music}')\\n\""
      ]
     },
     "execution_count": 20,
     "metadata": {},
     "output_type": "execute_result"
    }
   ],
   "source": [
    "\"\"\"extract_features('./dataset/musics/MT0000004637.mp3')\n",
    "musics = get_musics()\n",
    "features = np.zeros((900, 190))\n",
    "for i, music in enumerate (musics):\n",
    "    features[i, :] = extract_features(f'./dataset/musics/{music}')\n",
    "\"\"\" "
   ]
  },
  {
   "cell_type": "code",
   "execution_count": 21,
   "metadata": {},
   "outputs": [],
   "source": [
    "# normalized_features = normalize_features(features)"
   ]
  },
  {
   "cell_type": "code",
   "execution_count": 22,
   "metadata": {},
   "outputs": [
    {
     "data": {
      "text/plain": [
       "\"np.savetxt('./features/normalized_features.csv', normalized_features, delimiter=',', fmt='%.6f')\\nnp.savetxt('./features/features.csv', features, delimiter=',', fmt='%.6f')\""
      ]
     },
     "execution_count": 22,
     "metadata": {},
     "output_type": "execute_result"
    }
   ],
   "source": [
    "\"\"\"np.savetxt('./features/normalized_features.csv', normalized_features, delimiter=',', fmt='%.6f')\n",
    "np.savetxt('./features/features.csv', features, delimiter=',', fmt='%.6f')\"\"\""
   ]
  },
  {
   "cell_type": "code",
   "execution_count": 23,
   "metadata": {},
   "outputs": [],
   "source": [
    "normalized_features = read_features('./features/normalized_features.csv')"
   ]
  },
  {
   "cell_type": "markdown",
   "metadata": {},
   "source": [
    "## Métricas de similaridade"
   ]
  },
  {
   "cell_type": "code",
   "execution_count": 24,
   "metadata": {},
   "outputs": [],
   "source": [
    "def euclidean_distance(featuresA, featuresB):\n",
    "    return np.sqrt(np.sum(np.square(featuresA-featuresB)))"
   ]
  },
  {
   "cell_type": "code",
   "execution_count": 25,
   "metadata": {},
   "outputs": [],
   "source": [
    "def manhattan_distance(featuresA, featuresB):\n",
    "    return np.sum(np.abs(featuresA-featuresB))"
   ]
  },
  {
   "cell_type": "code",
   "execution_count": 26,
   "metadata": {},
   "outputs": [],
   "source": [
    "def cos_distance(featuresA, featuresB):\n",
    "    return 1 - (featuresA @ featuresB) / (np.linalg.norm(featuresA) * np.linalg.norm(featuresB))"
   ]
  },
  {
   "cell_type": "code",
   "execution_count": 27,
   "metadata": {},
   "outputs": [],
   "source": [
    "def calculate_distances(features):\n",
    "    distance_euclidean = np.zeros((900, 900))\n",
    "    distance_cos = np.zeros((900, 900))\n",
    "    distance_manhattan = np.zeros((900, 900))\n",
    "    for i in range(900):\n",
    "        for j in range(i+1, 900):\n",
    "            distance_euclidean[i,j] = distance_euclidean[j,i] = euclidean_distance(features[i, :], features[j,:])\n",
    "            distance_cos[i,j] =  distance_cos[j,i] = cos_distance(features[i,:], features[j,:])\n",
    "            distance_manhattan[i,j] = distance_manhattan[j,i] = manhattan_distance(features[i, :], features[j,:])\n",
    "    return distance_euclidean, distance_cos, distance_manhattan"
   ]
  },
  {
   "cell_type": "code",
   "execution_count": 28,
   "metadata": {},
   "outputs": [],
   "source": [
    "distance_euclidean, distance_cos, distance_manhattan = calculate_distances(normalized_features)\n",
    "distance_euclidean100, distance_cos100, distance_manhattan100 = calculate_distances(top100_normalized)"
   ]
  },
  {
   "cell_type": "code",
   "execution_count": 29,
   "metadata": {},
   "outputs": [],
   "source": [
    "np.savetxt('./features/distances/distance_euclidean.csv', distance_euclidean, delimiter=',', fmt='%.6f')\n",
    "np.savetxt('./features/distances/distance_euclidean100.csv', distance_euclidean100, delimiter=',', fmt='%.6f')\n",
    "np.savetxt('./features/distances/distance_cos.csv', distance_cos, delimiter=',', fmt='%.6f')\n",
    "np.savetxt('./features/distances/distance_cos100.csv', distance_cos100, delimiter=',', fmt='%.6f')\n",
    "np.savetxt('./features/distances/distance_manhattan.csv', distance_manhattan, delimiter=',', fmt='%.6f')\n",
    "np.savetxt('./features/distances/distance_manhattan100.csv', distance_manhattan100, delimiter=',', fmt='%.6f')"
   ]
  },
  {
   "cell_type": "code",
   "execution_count": 30,
   "metadata": {},
   "outputs": [],
   "source": [
    "musics = get_musics()\n",
    "music_dict = dict((music, i) for i, music in enumerate(musics))"
   ]
  },
  {
   "cell_type": "code",
   "execution_count": 31,
   "metadata": {},
   "outputs": [],
   "source": [
    "def get_the_closest_musics(music, features_distances, number=20):\n",
    "    music_index = music_dict[music]\n",
    "    distances = features_distances[music_index, :]\n",
    "    sorted_distances = np.argsort(distances)\n",
    "    \n",
    "    return [musics[i] for i in sorted_distances[1:number+1]]"
   ]
  },
  {
   "cell_type": "code",
   "execution_count": 32,
   "metadata": {},
   "outputs": [
    {
     "name": "stdout",
     "output_type": "stream",
     "text": [
      "[[0.40833396 0.55892695 0.08767653 ... 0.49339478 0.29677785 0.28512149]\n",
      " [0.17434797 0.81639588 0.09864405 ... 0.66779986 0.14344785 0.        ]\n",
      " [0.21986539 0.95836272 0.11175995 ... 0.73227772 0.19118833 0.        ]\n",
      " ...\n",
      " [0.22605274 0.8830899  0.22646862 ... 0.66775423 0.19149261 0.        ]\n",
      " [0.33731922 0.82533373 0.28343725 ... 0.6795957  0.26104038 0.53630904]\n",
      " [0.38793611 0.80516266 0.21350893 ... 0.54009902 0.13512837 0.26941305]]\n"
     ]
    }
   ],
   "source": [
    "print(top100_normalized)"
   ]
  },
  {
   "cell_type": "code",
   "execution_count": 33,
   "metadata": {},
   "outputs": [
    {
     "name": "stdout",
     "output_type": "stream",
     "text": [
      "Euclidean: MT0000202045.mp3 ['MT0005129157.mp3', 'MT0011899302.mp3', 'MT0012001409.mp3', 'MT0002233402.mp3', 'MT0007043504.mp3', 'MT0007799677.mp3', 'MT0004428604.mp3', 'MT0002161109.mp3', 'MT0011975274.mp3', 'MT0010624346.mp3', 'MT0009217411.mp3', 'MT0000092267.mp3', 'MT0007766156.mp3', 'MT0001676671.mp3', 'MT0005270263.mp3', 'MT0003787478.mp3', 'MT0011376343.mp3', 'MT0005213723.mp3', 'MT0000732821.mp3', 'MT0002634024.mp3']\n",
      "Cos: MT0000202045.mp3 ['MT0005129157.mp3', 'MT0012001409.mp3', 'MT0011899302.mp3', 'MT0002233402.mp3', 'MT0007043504.mp3', 'MT0007799677.mp3', 'MT0004428604.mp3', 'MT0011975274.mp3', 'MT0002161109.mp3', 'MT0000092267.mp3', 'MT0010624346.mp3', 'MT0009217411.mp3', 'MT0007766156.mp3', 'MT0003787478.mp3', 'MT0010085729.mp3', 'MT0005270263.mp3', 'MT0001676671.mp3', 'MT0000732821.mp3', 'MT0005213723.mp3', 'MT0026158301.mp3']\n",
      "Manhattan: MT0000202045.mp3 ['MT0005129157.mp3', 'MT0011899302.mp3', 'MT0012001409.mp3', 'MT0007799677.mp3', 'MT0002233402.mp3', 'MT0007043504.mp3', 'MT0010624346.mp3', 'MT0000732821.mp3', 'MT0011975274.mp3', 'MT0004428604.mp3', 'MT0000092267.mp3', 'MT0003787478.mp3', 'MT0002161109.mp3', 'MT0009217411.mp3', 'MT0002379222.mp3', 'MT0002634024.mp3', 'MT0005213723.mp3', 'MT0011376343.mp3', 'MT0036368550.mp3', 'MT0000446304.mp3']\n",
      "Euclidean100: MT0000202045.mp3 ['MT0033841575.mp3', 'MT0027002641.mp3', 'MT0030487841.mp3', 'MT0008575372.mp3', 'MT0014576739.mp3', 'MT0030422114.mp3', 'MT0003390733.mp3', 'MT0027835071.mp3', 'MT0009188643.mp3', 'MT0010617945.mp3', 'MT0011145388.mp3', 'MT0009213083.mp3', 'MT0005331755.mp3', 'MT0002233402.mp3', 'MT0026727455.mp3', 'MT0005265641.mp3', 'MT0010344415.mp3', 'MT0000711493.mp3', 'MT0004428604.mp3', 'MT0018029465.mp3']\n",
      "Cos100: MT0000202045.mp3 ['MT0033841575.mp3', 'MT0027002641.mp3', 'MT0030487841.mp3', 'MT0008575372.mp3', 'MT0014576739.mp3', 'MT0030422114.mp3', 'MT0003390733.mp3', 'MT0027835071.mp3', 'MT0011145388.mp3', 'MT0009188643.mp3', 'MT0010617945.mp3', 'MT0009213083.mp3', 'MT0005331755.mp3', 'MT0002233402.mp3', 'MT0026727455.mp3', 'MT0005265641.mp3', 'MT0010344415.mp3', 'MT0000711493.mp3', 'MT0018029465.mp3', 'MT0005469880.mp3']\n",
      "Manhattan100: MT0000202045.mp3 ['MT0030422114.mp3', 'MT0033841575.mp3', 'MT0027835071.mp3', 'MT0008575372.mp3', 'MT0002297016.mp3', 'MT0027002641.mp3', 'MT0030487841.mp3', 'MT0040033011.mp3', 'MT0005265641.mp3', 'MT0010617945.mp3', 'MT0009213083.mp3', 'MT0006096934.mp3', 'MT0005897799.mp3', 'MT0004428604.mp3', 'MT0026727455.mp3', 'MT0004867185.mp3', 'MT0003787478.mp3', 'MT0001340713.mp3', 'MT0009188643.mp3', 'MT0011145388.mp3']\n",
      "\n",
      "\n",
      "\n",
      "\n",
      "\n",
      "\n",
      "Euclidean: MT0000379144.mp3 ['MT0004141823.mp3', 'MT0006540794.mp3', 'MT0011957429.mp3', 'MT0008222676.mp3', 'MT0009845271.mp3', 'MT0012041920.mp3', 'MT0002222957.mp3', 'MT0006510599.mp3', 'MT0003778826.mp3', 'MT0011821215.mp3', 'MT0005202791.mp3', 'MT0000044741.mp3', 'MT0012124855.mp3', 'MT0005523766.mp3', 'MT0003262589.mp3', 'MT0006164654.mp3', 'MT0010617945.mp3', 'MT0007379559.mp3', 'MT0000082187.mp3', 'MT0002479795.mp3']\n",
      "Cos: MT0000379144.mp3 ['MT0004141823.mp3', 'MT0006540794.mp3', 'MT0008222676.mp3', 'MT0011957429.mp3', 'MT0002222957.mp3', 'MT0009845271.mp3', 'MT0012041920.mp3', 'MT0003794106.mp3', 'MT0005202791.mp3', 'MT0012124855.mp3', 'MT0006510599.mp3', 'MT0005515169.mp3', 'MT0003778826.mp3', 'MT0003262589.mp3', 'MT0007379559.mp3', 'MT0002479795.mp3', 'MT0006367176.mp3', 'MT0005523766.mp3', 'MT0011821215.mp3', 'MT0005029328.mp3']\n",
      "Manhattan: MT0000379144.mp3 ['MT0004141823.mp3', 'MT0008222676.mp3', 'MT0011957429.mp3', 'MT0006540794.mp3', 'MT0009845271.mp3', 'MT0002222957.mp3', 'MT0011821215.mp3', 'MT0002119439.mp3', 'MT0012124855.mp3', 'MT0000044741.mp3', 'MT0012041920.mp3', 'MT0010617945.mp3', 'MT0003778826.mp3', 'MT0005523766.mp3', 'MT0006164654.mp3', 'MT0003262589.mp3', 'MT0005202791.mp3', 'MT0010465830.mp3', 'MT0006510599.mp3', 'MT0002297016.mp3']\n",
      "Euclidean100: MT0000379144.mp3 ['MT0009010830.mp3', 'MT0003778826.mp3', 'MT0015005100.mp3', 'MT0028627699.mp3', 'MT0012124855.mp3', 'MT0000044741.mp3', 'MT0005478759.mp3', 'MT0027035970.mp3', 'MT0003794106.mp3', 'MT0000992846.mp3', 'MT0031996897.mp3', 'MT0001376988.mp3', 'MT0009208842.mp3', 'MT0002262181.mp3', 'MT0005737276.mp3', 'MT0010465830.mp3', 'MT0018031959.mp3', 'MT0033958450.mp3', 'MT0012041920.mp3', 'MT0012396528.mp3']\n",
      "Cos100: MT0000379144.mp3 ['MT0009010830.mp3', 'MT0003778826.mp3', 'MT0015005100.mp3', 'MT0028627699.mp3', 'MT0012124855.mp3', 'MT0027035970.mp3', 'MT0000044741.mp3', 'MT0003794106.mp3', 'MT0005478759.mp3', 'MT0002262181.mp3', 'MT0031996897.mp3', 'MT0000992846.mp3', 'MT0001376988.mp3', 'MT0009208842.mp3', 'MT0010465830.mp3', 'MT0005737276.mp3', 'MT0018031959.mp3', 'MT0033958450.mp3', 'MT0008222676.mp3', 'MT0012041920.mp3']\n",
      "Manhattan100: MT0000379144.mp3 ['MT0015005100.mp3', 'MT0009010830.mp3', 'MT0031996897.mp3', 'MT0012124855.mp3', 'MT0028627699.mp3', 'MT0003778826.mp3', 'MT0000992846.mp3', 'MT0001376988.mp3', 'MT0000044741.mp3', 'MT0005478759.mp3', 'MT0027035970.mp3', 'MT0003794106.mp3', 'MT0005737276.mp3', 'MT0003903675.mp3', 'MT0002262181.mp3', 'MT0009208842.mp3', 'MT0008222676.mp3', 'MT0006367176.mp3', 'MT0006540794.mp3', 'MT0015742096.mp3']\n",
      "\n",
      "\n",
      "\n",
      "\n",
      "\n",
      "\n",
      "Euclidean: MT0000414517.mp3 ['MT0003949060.mp3', 'MT0004274911.mp3', 'MT0001515531.mp3', 'MT0000040632.mp3', 'MT0003900455.mp3', 'MT0005469880.mp3', 'MT0030282917.mp3', 'MT0004032071.mp3', 'MT0034005433.mp3', 'MT0002415184.mp3', 'MT0013790748.mp3', 'MT0003106472.mp3', 'MT0034125967.mp3', 'MT0004850690.mp3', 'MT0008401073.mp3', 'MT0005752234.mp3', 'MT0000636335.mp3', 'MT0001335920.mp3', 'MT0003243311.mp3', 'MT0001624303.mp3']\n",
      "Cos: MT0000414517.mp3 ['MT0003949060.mp3', 'MT0004274911.mp3', 'MT0001515531.mp3', 'MT0000040632.mp3', 'MT0003900455.mp3', 'MT0002634024.mp3', 'MT0004032071.mp3', 'MT0005469880.mp3', 'MT0013790748.mp3', 'MT0030282917.mp3', 'MT0001942272.mp3', 'MT0003106472.mp3', 'MT0005752234.mp3', 'MT0034005433.mp3', 'MT0001583214.mp3', 'MT0002415184.mp3', 'MT0001109401.mp3', 'MT0009346128.mp3', 'MT0008401073.mp3', 'MT0000636335.mp3']\n",
      "Manhattan: MT0000414517.mp3 ['MT0003949060.mp3', 'MT0004274911.mp3', 'MT0000040632.mp3', 'MT0000218346.mp3', 'MT0005469880.mp3', 'MT0008401073.mp3', 'MT0003900455.mp3', 'MT0034125967.mp3', 'MT0006769480.mp3', 'MT0001515531.mp3', 'MT0001624303.mp3', 'MT0004032071.mp3', 'MT0001109401.mp3', 'MT0005752234.mp3', 'MT0030282917.mp3', 'MT0009208842.mp3', 'MT0001942272.mp3', 'MT0034005433.mp3', 'MT0010465830.mp3', 'MT0009991160.mp3']\n",
      "Euclidean100: MT0000414517.mp3 ['MT0003900455.mp3', 'MT0000203193.mp3', 'MT0009897495.mp3', 'MT0009521580.mp3', 'MT0018651126.mp3', 'MT0013955066.mp3', 'MT0034186195.mp3', 'MT0000901959.mp3', 'MT0004428604.mp3', 'MT0009346128.mp3', 'MT0000888329.mp3', 'MT0000218346.mp3', 'MT0012331779.mp3', 'MT0034005433.mp3', 'MT0013633209.mp3', 'MT0002379222.mp3', 'MT0001703346.mp3', 'MT0005752234.mp3', 'MT0017667847.mp3', 'MT0009991160.mp3']\n",
      "Cos100: MT0000414517.mp3 ['MT0003900455.mp3', 'MT0009897495.mp3', 'MT0000203193.mp3', 'MT0000901959.mp3', 'MT0009521580.mp3', 'MT0013955066.mp3', 'MT0000888329.mp3', 'MT0004428604.mp3', 'MT0018651126.mp3', 'MT0009346128.mp3', 'MT0002379222.mp3', 'MT0034186195.mp3', 'MT0017667847.mp3', 'MT0000218346.mp3', 'MT0000040632.mp3', 'MT0002634024.mp3', 'MT0012331779.mp3', 'MT0001703346.mp3', 'MT0027835071.mp3', 'MT0009991160.mp3']\n",
      "Manhattan100: MT0000414517.mp3 ['MT0003900455.mp3', 'MT0003949060.mp3', 'MT0000203193.mp3', 'MT0009521580.mp3', 'MT0013955066.mp3', 'MT0000218346.mp3', 'MT0001333258.mp3', 'MT0009897495.mp3', 'MT0034186195.mp3', 'MT0001703346.mp3', 'MT0018651126.mp3', 'MT0034005433.mp3', 'MT0013633209.mp3', 'MT0005469880.mp3', 'MT0017797643.mp3', 'MT0034125967.mp3', 'MT0009346128.mp3', 'MT0013161246.mp3', 'MT0005752234.mp3', 'MT0000040632.mp3']\n",
      "\n",
      "\n",
      "\n",
      "\n",
      "\n",
      "\n",
      "Euclidean: MT0000956340.mp3 ['MT0006096934.mp3', 'MT0003787478.mp3', 'MT0040033011.mp3', 'MT0005625762.mp3', 'MT0033177286.mp3', 'MT0003603772.mp3', 'MT0004867185.mp3', 'MT0005331755.mp3', 'MT0003213835.mp3', 'MT0008511909.mp3', 'MT0013389935.mp3', 'MT0006640142.mp3', 'MT0005265641.mp3', 'MT0001680969.mp3', 'MT0011145388.mp3', 'MT0004958762.mp3', 'MT0004942017.mp3', 'MT0001217651.mp3', 'MT0006367176.mp3', 'MT0005409948.mp3']\n",
      "Cos: MT0000956340.mp3 ['MT0006096934.mp3', 'MT0003787478.mp3', 'MT0040033011.mp3', 'MT0005625762.mp3', 'MT0033177286.mp3', 'MT0003603772.mp3', 'MT0003213835.mp3', 'MT0008511909.mp3', 'MT0004867185.mp3', 'MT0005331755.mp3', 'MT0011145388.mp3', 'MT0004958762.mp3', 'MT0013389935.mp3', 'MT0005265641.mp3', 'MT0006640142.mp3', 'MT0006367176.mp3', 'MT0008570712.mp3', 'MT0007535042.mp3', 'MT0001680969.mp3', 'MT0014576739.mp3']\n",
      "Manhattan: MT0000956340.mp3 ['MT0006096934.mp3', 'MT0005625762.mp3', 'MT0003787478.mp3', 'MT0040033011.mp3', 'MT0033177286.mp3', 'MT0003603772.mp3', 'MT0006640142.mp3', 'MT0005331755.mp3', 'MT0003213835.mp3', 'MT0008511909.mp3', 'MT0005265641.mp3', 'MT0004942017.mp3', 'MT0005409948.mp3', 'MT0001680969.mp3', 'MT0013389935.mp3', 'MT0004867185.mp3', 'MT0008570712.mp3', 'MT0001217651.mp3', 'MT0003724610.mp3', 'MT0011145388.mp3']\n",
      "Euclidean100: MT0000956340.mp3 ['MT0003106472.mp3', 'MT0010736208.mp3', 'MT0014703649.mp3', 'MT0005409948.mp3', 'MT0014615863.mp3', 'MT0013612461.mp3', 'MT0004032071.mp3', 'MT0010615428.mp3', 'MT0003724610.mp3', 'MT0040033011.mp3', 'MT0002372242.mp3', 'MT0004882280.mp3', 'MT0009800907.mp3', 'MT0004293364.mp3', 'MT0004028719.mp3', 'MT0007535042.mp3', 'MT0030036616.mp3', 'MT0014794891.mp3', 'MT0013822237.mp3', 'MT0010624346.mp3']\n",
      "Cos100: MT0000956340.mp3 ['MT0003106472.mp3', 'MT0010736208.mp3', 'MT0014703649.mp3', 'MT0005409948.mp3', 'MT0014615863.mp3', 'MT0004882280.mp3', 'MT0013612461.mp3', 'MT0003724610.mp3', 'MT0002372242.mp3', 'MT0004032071.mp3', 'MT0010615428.mp3', 'MT0040033011.mp3', 'MT0007535042.mp3', 'MT0004293364.mp3', 'MT0009800907.mp3', 'MT0004028719.mp3', 'MT0030036616.mp3', 'MT0004085907.mp3', 'MT0010624346.mp3', 'MT0014794891.mp3']\n",
      "Manhattan100: MT0000956340.mp3 ['MT0003106472.mp3', 'MT0010736208.mp3', 'MT0014703649.mp3', 'MT0014615863.mp3', 'MT0005409948.mp3', 'MT0004028719.mp3', 'MT0002372242.mp3', 'MT0007535042.mp3', 'MT0004032071.mp3', 'MT0004085907.mp3', 'MT0003724610.mp3', 'MT0004942017.mp3', 'MT0013612461.mp3', 'MT0010615428.mp3', 'MT0040033011.mp3', 'MT0035334027.mp3', 'MT0011697297.mp3', 'MT0004882280.mp3', 'MT0009800907.mp3', 'MT0010624346.mp3']\n",
      "\n",
      "\n",
      "\n",
      "\n",
      "\n",
      "\n"
     ]
    }
   ],
   "source": [
    "for music in get_musics('./Queries/'):\n",
    "    print('Euclidean:', music, get_the_closest_musics(music, distance_euclidean))\n",
    "    print('Cos:', music, get_the_closest_musics(music, distance_cos))\n",
    "    print('Manhattan:', music, get_the_closest_musics(music, distance_manhattan))\n",
    "    print('Euclidean100:', music, get_the_closest_musics(music, distance_euclidean100))\n",
    "    print('Cos100:', music, get_the_closest_musics(music, distance_cos100))\n",
    "    print('Manhattan100:', music, get_the_closest_musics(music, distance_manhattan100))\n",
    "    print('\\n'*5)"
   ]
  },
  {
   "cell_type": "code",
   "execution_count": 34,
   "metadata": {},
   "outputs": [],
   "source": [
    "def get_metadata(file='./dataset/panda_dataset_taffc_metadata.csv'):\n",
    "    metadata = np.genfromtxt(file, delimiter=',', dtype=\"str\")\n",
    "    \n",
    "    return metadata"
   ]
  },
  {
   "cell_type": "code",
   "execution_count": 35,
   "metadata": {},
   "outputs": [
    {
     "name": "stdout",
     "output_type": "stream",
     "text": [
      "[['\"Charlie Poole\"' '\"Q3\"' '\"Circular; Greasy; Messy\"'\n",
      "  '\"Country; International\"']\n",
      " ['\"Dismember\"' '\"Q2\"' '\"Negative; Nervous; Jittery\"'\n",
      "  '\"Electronic; International; Pop/Rock\"']\n",
      " ['\"Curse of the Golden Vampire\"' '\"Q2\"'\n",
      "  '\"Fierce; Harsh; Hostile; Menacing; Outrageous; Unsettling\"'\n",
      "  '\"Electronic\"']\n",
      " ...\n",
      " ['\"Subhumans\"' '\"Q2\"' '\"Bitter; Harsh; Outraged\"' '\"Pop/Rock\"']\n",
      " ['\"Taio Cruz\"' '\"Q1\"'\n",
      "  '\"Bright; Carefree; Energetic; Euphoric; Exciting; Joyous; Slick; Thrilling; Urgent\"'\n",
      "  '\"Pop/Rock\"']\n",
      " ['\"Product\"' '\"Q3\"' '\"Bitter; Bleak; Snide; Somber; Thuggish\"' '\"Rap\"']]\n"
     ]
    }
   ],
   "source": [
    "metadata_raw = get_metadata()\n",
    "metadata = metadata_raw[1:, [1, 3, 9, 11]]\n",
    "print(metadata)"
   ]
  },
  {
   "cell_type": "code",
   "execution_count": 36,
   "metadata": {},
   "outputs": [],
   "source": [
    "def metadata_score(metadata):\n",
    "    scores = np.zeros((900, 900))\n",
    "    np.fill_diagonal(scores, -1)\n",
    "    for i in range(metadata.shape[0]):\n",
    "        for j in range(i+1, metadata.shape[0]):\n",
    "            for k in range(metadata.shape[1]):\n",
    "                listA = metadata[i, k][1:-1].split('; ')\n",
    "                listB = metadata[j, k][1:-1].split('; ')\n",
    "                for elem in listB:\n",
    "                    scores[i, j] = scores[j, i] = scores[i, j] + (1 if elem in listA else 0)\n",
    "    return scores"
   ]
  },
  {
   "cell_type": "code",
   "execution_count": 37,
   "metadata": {},
   "outputs": [],
   "source": [
    "score_matrix = metadata_score(metadata)"
   ]
  },
  {
   "cell_type": "code",
   "execution_count": 38,
   "metadata": {},
   "outputs": [],
   "source": [
    "np.savetxt('./dataset/score_matrix.csv', score_matrix, delimiter=',', fmt='%d')"
   ]
  },
  {
   "cell_type": "code",
   "execution_count": 39,
   "metadata": {},
   "outputs": [],
   "source": [
    "def get_top_metadata_match(music, score_matrix, top=20):    \n",
    "    music_index = music_dict[music]\n",
    "    scores = score_matrix[music_index, :]\n",
    "    # -scores because np.argsort sorts the array in non decreasing order, but we need a non ascending order, so we can get the -values\n",
    "    scores_sorted = np.argsort(scores, )[-top:][::-1].astype('int16')\n",
    "    return [musics[i] for i in scores_sorted[:top]]"
   ]
  },
  {
   "cell_type": "code",
   "execution_count": 40,
   "metadata": {},
   "outputs": [
    {
     "name": "stdout",
     "output_type": "stream",
     "text": [
      "Metadata: MT0000202045.mp3 ['MT0014475915.mp3', 'MT0012862507.mp3', 'MT0000888329.mp3', 'MT0007556029.mp3', 'MT0031898123.mp3', 'MT0004867564.mp3', 'MT0001494812.mp3', 'MT0003022328.mp3', 'MT0011922905.mp3', 'MT0030369896.mp3', 'MT0007453719.mp3', 'MT0034186620.mp3', 'MT0004850690.mp3', 'MT0011938737.mp3', 'MT0034577404.mp3', 'MT0003025046.mp3', 'MT0005285696.mp3', 'MT0002846256.mp3', 'MT0001058887.mp3', 'MT0007766156.mp3']\n",
      "\n",
      "\n",
      "\n",
      "\n",
      "\n",
      "\n",
      "Metadata: MT0000379144.mp3 ['MT0031951901.mp3', 'MT0014584473.mp3', 'MT0013080259.mp3', 'MT0013416300.mp3', 'MT0011032905.mp3', 'MT0005157391.mp3', 'MT0005253065.mp3', 'MT0008170600.mp3', 'MT0007652281.mp3', 'MT0007349999.mp3', 'MT0007338724.mp3', 'MT0001526386.mp3', 'MT0004287283.mp3', 'MT0005115042.mp3', 'MT0004131058.mp3', 'MT0001929641.mp3', 'MT0001934726.mp3', 'MT0003863509.mp3', 'MT0029877658.mp3', 'MT0003114552.mp3']\n",
      "\n",
      "\n",
      "\n",
      "\n",
      "\n",
      "\n",
      "Metadata: MT0000414517.mp3 ['MT0010489498.mp3', 'MT0000040632.mp3', 'MT0010487769.mp3', 'MT0012331779.mp3', 'MT0027048677.mp3', 'MT0033397838.mp3', 'MT0002222957.mp3', 'MT0003949060.mp3', 'MT0007840454.mp3', 'MT0008222676.mp3', 'MT0010900969.mp3', 'MT0003286463.mp3', 'MT0003243311.mp3', 'MT0015005100.mp3', 'MT0002033629.mp3', 'MT0004141823.mp3', 'MT0027159893.mp3', 'MT0009729892.mp3', 'MT0004751933.mp3', 'MT0006315323.mp3']\n",
      "\n",
      "\n",
      "\n",
      "\n",
      "\n",
      "\n",
      "Metadata: MT0000956340.mp3 ['MT0016743722.mp3', 'MT0014615863.mp3', 'MT0013885218.mp3', 'MT0004293364.mp3', 'MT0033097471.mp3', 'MT0014845647.mp3', 'MT0012001409.mp3', 'MT0001927746.mp3', 'MT0001891229.mp3', 'MT0010897525.mp3', 'MT0029099688.mp3', 'MT0012914763.mp3', 'MT0004459450.mp3', 'MT0009217411.mp3', 'MT0005897799.mp3', 'MT0032957418.mp3', 'MT0014817509.mp3', 'MT0015541501.mp3', 'MT0002372242.mp3', 'MT0015962332.mp3']\n",
      "\n",
      "\n",
      "\n",
      "\n",
      "\n",
      "\n"
     ]
    }
   ],
   "source": [
    "for music in get_musics('./Queries/'):\n",
    "    print('Metadata:', music, get_top_metadata_match(music, score_matrix))\n",
    "    print('\\n'*5)"
   ]
  },
  {
   "cell_type": "code",
   "execution_count": 41,
   "metadata": {},
   "outputs": [],
   "source": [
    "def precision(music, score_matrix, distance, top=20):\n",
    "    m = get_top_metadata_match(music, score_matrix, top)\n",
    "    d = get_the_closest_musics(music, distance, top)\n",
    "    intersect = np.intersect1d(m, d)\n",
    "    p = len(intersect) / top * 100\n",
    "    print('%.2f%%' % p, intersect)\n",
    "    return p, intersect\n"
   ]
  },
  {
   "cell_type": "code",
   "execution_count": 42,
   "metadata": {},
   "outputs": [],
   "source": [
    "def metric_precision():\n",
    "    for music in get_musics('./Queries/'):\n",
    "        print('MUSIC:', music)\n",
    "        print('\\tEuclidean: ', end='')\n",
    "        precision(music, score_matrix, distance_euclidean)\n",
    "        print('\\tManhattan: ', end='')\n",
    "        precision(music, score_matrix, distance_manhattan)\n",
    "        print('\\tCos: ', end='')\n",
    "        precision(music, score_matrix, distance_cos)\n",
    "        print('\\tEuclidean TOP 100: ', end='')\n",
    "        precision(music, score_matrix, distance_euclidean100)\n",
    "        print('\\tManhattan TOP 100: ', end='')\n",
    "        precision(music, score_matrix, distance_manhattan100)\n",
    "        print('\\tCos TOP 100: ', end='')\n",
    "        precision(music, score_matrix, distance_cos100)"
   ]
  },
  {
   "cell_type": "code",
   "execution_count": 43,
   "metadata": {},
   "outputs": [
    {
     "name": "stdout",
     "output_type": "stream",
     "text": [
      "MUSIC: MT0000202045.mp3\n",
      "\tEuclidean: 5.00% ['MT0007766156.mp3']\n",
      "\tManhattan: 0.00% []\n",
      "\tCos: 5.00% ['MT0007766156.mp3']\n",
      "\tEuclidean TOP 100: 0.00% []\n",
      "\tManhattan TOP 100: 0.00% []\n",
      "\tCos TOP 100: 0.00% []\n",
      "MUSIC: MT0000379144.mp3\n",
      "\tEuclidean: 0.00% []\n",
      "\tManhattan: 0.00% []\n",
      "\tCos: 0.00% []\n",
      "\tEuclidean TOP 100: 0.00% []\n",
      "\tManhattan TOP 100: 0.00% []\n",
      "\tCos TOP 100: 0.00% []\n",
      "MUSIC: MT0000414517.mp3\n",
      "\tEuclidean: 15.00% ['MT0000040632.mp3' 'MT0003243311.mp3' 'MT0003949060.mp3']\n",
      "\tManhattan: 10.00% ['MT0000040632.mp3' 'MT0003949060.mp3']\n",
      "\tCos: 10.00% ['MT0000040632.mp3' 'MT0003949060.mp3']\n",
      "\tEuclidean TOP 100: 5.00% ['MT0012331779.mp3']\n",
      "\tManhattan TOP 100: 10.00% ['MT0000040632.mp3' 'MT0003949060.mp3']\n",
      "\tCos TOP 100: 10.00% ['MT0000040632.mp3' 'MT0012331779.mp3']\n",
      "MUSIC: MT0000956340.mp3\n",
      "\tEuclidean: 0.00% []\n",
      "\tManhattan: 0.00% []\n",
      "\tCos: 0.00% []\n",
      "\tEuclidean TOP 100: 15.00% ['MT0002372242.mp3' 'MT0004293364.mp3' 'MT0014615863.mp3']\n",
      "\tManhattan TOP 100: 10.00% ['MT0002372242.mp3' 'MT0014615863.mp3']\n",
      "\tCos TOP 100: 15.00% ['MT0002372242.mp3' 'MT0004293364.mp3' 'MT0014615863.mp3']\n"
     ]
    }
   ],
   "source": [
    "metric_precision()"
   ]
  },
  {
   "cell_type": "code",
   "execution_count": 44,
   "metadata": {},
   "outputs": [],
   "source": [
    "def add_relevant(df, threshold):\n",
    "    df['relevant'] = np.where(df['mean'] > threshold, True, False)"
   ]
  },
  {
   "cell_type": "code",
   "execution_count": 45,
   "metadata": {},
   "outputs": [],
   "source": [
    "def add_mean(df, cols):\n",
    "    df['mean'] = df[cols].mean(axis=1)"
   ]
  },
  {
   "cell_type": "code",
   "execution_count": 46,
   "metadata": {},
   "outputs": [],
   "source": [
    "def add_std(df, cols):\n",
    "    df['std'] = df[cols].std(axis=1)"
   ]
  },
  {
   "cell_type": "code",
   "execution_count": 47,
   "metadata": {},
   "outputs": [],
   "source": [
    "def calculate_precision(ds):\n",
    "    return ds.value_counts()[True] / ds.count()"
   ]
  },
  {
   "cell_type": "code",
   "execution_count": 57,
   "metadata": {},
   "outputs": [],
   "source": [
    "def get_likert_scores():\n",
    "    for music in get_musics('./Queries/'):\n",
    "        df = pd.read_csv(f'./dataset/results/{music}.csv')\n",
    "        metadata = df[['M1', 'M2', 'M3']].copy()\n",
    "        top = df[['T1', 'T2', 'T3']].copy()\n",
    "        add_mean(top, ['T1', 'T2', 'T3'])\n",
    "        add_std(top,['T1', 'T2', 'T3'])\n",
    "        add_mean(metadata, ['M1', 'M2', 'M3'])\n",
    "        add_std(metadata,['M1', 'M2', 'M3'])\n",
    "        threshold = 2.5\n",
    "        add_relevant(top, threshold)\n",
    "        add_relevant(metadata, threshold)\n",
    "        print(music, 'TOP 100:', calculate_precision(top['relevant']), 'METADATA:', calculate_precision(metadata['relevant']))"
   ]
  },
  {
   "cell_type": "code",
   "execution_count": 58,
   "metadata": {},
   "outputs": [
    {
     "name": "stdout",
     "output_type": "stream",
     "text": [
      "MT0000202045.mp3 TOP 100: 0.2 METADATA: 0.4\n",
      "MT0000379144.mp3 TOP 100: 0.35 METADATA: 0.25\n",
      "MT0000414517.mp3 TOP 100: 0.1 METADATA: 0.25\n",
      "MT0000956340.mp3 TOP 100: 0.65 METADATA: 0.55\n"
     ]
    }
   ],
   "source": [
    "get_likert_scores()"
   ]
  }
 ],
 "metadata": {
  "interpreter": {
   "hash": "3bf21c7c7fcf7343623f0f3832a667da7df7460fc01e79c94bfb669af5deb486"
  },
  "kernelspec": {
   "display_name": "Python 3.9.11 ('Trabalho2')",
   "language": "python",
   "name": "python3"
  },
  "language_info": {
   "codemirror_mode": {
    "name": "ipython",
    "version": 3
   },
   "file_extension": ".py",
   "mimetype": "text/x-python",
   "name": "python",
   "nbconvert_exporter": "python",
   "pygments_lexer": "ipython3",
   "version": "3.9.11"
  },
  "orig_nbformat": 4
 },
 "nbformat": 4,
 "nbformat_minor": 2
}
